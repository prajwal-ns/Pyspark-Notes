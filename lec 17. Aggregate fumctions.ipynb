{
 "cells": [
  {
   "cell_type": "code",
   "execution_count": 1,
   "metadata": {},
   "outputs": [],
   "source": [
    "\n",
    "import os\n",
    "\n",
    "\n",
    "import findspark\n",
    "findspark.init()\n",
    "\n",
    "import pyspark\n",
    "from pyspark.sql import SparkSession\n",
    "from pyspark.sql import *\n",
    "from pyspark.sql.functions import *\n",
    "from pyspark.sql.types import *\n",
    "import sys\n",
    "\n",
    "os.environ['PYSPARK_PYTHON'] = sys.executable\n",
    "os.environ['PYSPARK_DRIVER_PYTHON'] = sys.executable"
   ]
  },
  {
   "cell_type": "code",
   "execution_count": 2,
   "metadata": {},
   "outputs": [
    {
     "name": "stdout",
     "output_type": "stream",
     "text": [
      "<pyspark.sql.session.SparkSession object at 0x0000022B1BD0C6D0>\n"
     ]
    }
   ],
   "source": [
    "spark = SparkSession.builder.master(\"local[*]\") \\\n",
    "    .appName(\"testing\") \\\n",
    "    .config(\"spark.driver.extraClassPath\", \"C:\\\\my_sql_jar\\\\mysql-connector-java-8.0.26.jar\") \\\n",
    "    .getOrCreate()\n",
    "print(spark)"
   ]
  },
  {
   "cell_type": "code",
   "execution_count": 3,
   "metadata": {},
   "outputs": [],
   "source": [
    "emp_data = [\n",
    "(1,'manish',26,20000,'india','IT'),\n",
    "(2,'rahul',None,40000,'germany','engineering'),\n",
    "(3,'pawan',12,60000,'india','sales'),\n",
    "(4,'roshini',44,None,'uk','engineering'),\n",
    "(5,'raushan',35,70000,'india','sales'),\n",
    "(6,None,29,200000,'uk','IT'),\n",
    "(7,'adam',37,65000,'us','IT'),\n",
    "(8,'chris',16,40000,'us','sales'),\n",
    "(None,None,None,None,None,None),\n",
    "(7,'adam',37,65000,'us','IT')\n",
    "]\n",
    "\n",
    "emp_schema = ['id', 'name', 'age', 'sal', 'country', 'dept']"
   ]
  },
  {
   "cell_type": "code",
   "execution_count": 4,
   "metadata": {},
   "outputs": [],
   "source": [
    "emp_df = spark.createDataFrame(data = emp_data, schema=emp_schema)"
   ]
  },
  {
   "cell_type": "code",
   "execution_count": 5,
   "metadata": {},
   "outputs": [
    {
     "name": "stdout",
     "output_type": "stream",
     "text": [
      "+----+-------+----+------+-------+-----------+\n",
      "|  id|   name| age|   sal|country|       dept|\n",
      "+----+-------+----+------+-------+-----------+\n",
      "|   1| manish|  26| 20000|  india|         IT|\n",
      "|   2|  rahul|null| 40000|germany|engineering|\n",
      "|   3|  pawan|  12| 60000|  india|      sales|\n",
      "|   4|roshini|  44|  null|     uk|engineering|\n",
      "|   5|raushan|  35| 70000|  india|      sales|\n",
      "|   6|   null|  29|200000|     uk|         IT|\n",
      "|   7|   adam|  37| 65000|     us|         IT|\n",
      "|   8|  chris|  16| 40000|     us|      sales|\n",
      "|null|   null|null|  null|   null|       null|\n",
      "|   7|   adam|  37| 65000|     us|         IT|\n",
      "+----+-------+----+------+-------+-----------+\n",
      "\n"
     ]
    }
   ],
   "source": [
    "emp_df.show()"
   ]
  },
  {
   "cell_type": "markdown",
   "metadata": {},
   "source": [
    "### COUNT\n",
    "\n",
    "Count is both action as well as transformation.\n",
    "\n",
    "Action: df.count()\n",
    "\n",
    "Transformation: df.select(count(col(\"col1\")))\n"
   ]
  },
  {
   "cell_type": "code",
   "execution_count": 6,
   "metadata": {},
   "outputs": [
    {
     "data": {
      "text/plain": [
       "10"
      ]
     },
     "execution_count": 6,
     "metadata": {},
     "output_type": "execute_result"
    }
   ],
   "source": [
    "# in this example it'll consider all the columns and counts NULLS as row\n",
    "emp_df.count()"
   ]
  },
  {
   "cell_type": "code",
   "execution_count": 8,
   "metadata": {},
   "outputs": [
    {
     "data": {
      "text/plain": [
       "10"
      ]
     },
     "execution_count": 8,
     "metadata": {},
     "output_type": "execute_result"
    }
   ],
   "source": [
    "# here it considers NULLS \n",
    "emp_df.select(col(\"name\")).count()"
   ]
  },
  {
   "cell_type": "code",
   "execution_count": 9,
   "metadata": {
    "scrolled": true
   },
   "outputs": [
    {
     "name": "stdout",
     "output_type": "stream",
     "text": [
      "+-----------+\n",
      "|count(name)|\n",
      "+-----------+\n",
      "|          8|\n",
      "+-----------+\n",
      "\n"
     ]
    }
   ],
   "source": [
    "# there are 2 NULLS which skipped\n",
    "emp_df.select(count(col(\"name\"))).show()"
   ]
  },
  {
   "cell_type": "code",
   "execution_count": 14,
   "metadata": {},
   "outputs": [
    {
     "name": "stdout",
     "output_type": "stream",
     "text": [
      "+------+--------+--------+-----+\n",
      "|   sum|max(sal)|min(sal)|  avg|\n",
      "+------+--------+--------+-----+\n",
      "|560000|  200000|   20000|70000|\n",
      "+------+--------+--------+-----+\n",
      "\n"
     ]
    }
   ],
   "source": [
    "# SUM, MIN, MAX. AVG\n",
    "\n",
    "emp_df.select(sum(\"sal\").alias(\"sum\"), max(\"sal\"), min(\"sal\"), avg(\"sal\").cast(\"int\").alias(\"avg\")).show()"
   ]
  },
  {
   "cell_type": "code",
   "execution_count": null,
   "metadata": {},
   "outputs": [],
   "source": []
  },
  {
   "cell_type": "code",
   "execution_count": null,
   "metadata": {},
   "outputs": [],
   "source": []
  },
  {
   "cell_type": "code",
   "execution_count": null,
   "metadata": {},
   "outputs": [],
   "source": []
  },
  {
   "cell_type": "code",
   "execution_count": null,
   "metadata": {},
   "outputs": [],
   "source": []
  },
  {
   "cell_type": "code",
   "execution_count": null,
   "metadata": {},
   "outputs": [],
   "source": []
  }
 ],
 "metadata": {
  "hide_input": false,
  "kernelspec": {
   "display_name": "Python 3",
   "language": "python",
   "name": "python3"
  },
  "language_info": {
   "codemirror_mode": {
    "name": "ipython",
    "version": 3
   },
   "file_extension": ".py",
   "mimetype": "text/x-python",
   "name": "python",
   "nbconvert_exporter": "python",
   "pygments_lexer": "ipython3",
   "version": "3.8.5"
  }
 },
 "nbformat": 4,
 "nbformat_minor": 4
}
