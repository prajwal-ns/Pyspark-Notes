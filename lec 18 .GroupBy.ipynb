{
 "cells": [
  {
   "cell_type": "code",
   "execution_count": 1,
   "metadata": {},
   "outputs": [],
   "source": [
    "\n",
    "import os\n",
    "\n",
    "\n",
    "import findspark\n",
    "findspark.init()\n",
    "\n",
    "import pyspark\n",
    "from pyspark.sql import SparkSession\n",
    "from pyspark.sql import *\n",
    "from pyspark.sql.functions import *\n",
    "from pyspark.sql.types import *\n",
    "import sys\n",
    "\n",
    "os.environ['PYSPARK_PYTHON'] = sys.executable\n",
    "os.environ['PYSPARK_DRIVER_PYTHON'] = sys.executable"
   ]
  },
  {
   "cell_type": "code",
   "execution_count": 2,
   "metadata": {},
   "outputs": [
    {
     "name": "stdout",
     "output_type": "stream",
     "text": [
      "<pyspark.sql.session.SparkSession object at 0x000001C258A6D700>\n"
     ]
    }
   ],
   "source": [
    "spark = SparkSession.builder.master(\"local[*]\") \\\n",
    "    .appName(\"testing\") \\\n",
    "    .config(\"spark.driver.extraClassPath\", \"C:\\\\my_sql_jar\\\\mysql-connector-java-8.0.26.jar\") \\\n",
    "    .getOrCreate()\n",
    "print(spark)"
   ]
  },
  {
   "cell_type": "code",
   "execution_count": 9,
   "metadata": {},
   "outputs": [],
   "source": [
    "my_data = [(1,'manish',50000,'IT'),\n",
    "(2,'vikash',60000,'sales'),\n",
    "(3,'raushan',70000,'marketing'),\n",
    "(4,'mukesh',80000,'IT'),\n",
    "(5,'pritam',90000,'sales'),\n",
    "(6,'nikita',45000,'marketing'),\n",
    "(7,'ragini',55000,'marketing'),\n",
    "(8,'rakesh',100000,'IT'),\n",
    "(9,'aditya',65000,'IT'),\n",
    "(10,'rahul',50000,'marketing')]\n",
    "\n",
    "schema = ['id', 'name', 'sal', 'dept']\n",
    "\n",
    "emp_df = spark.createDataFrame(data=my_data, schema = schema)"
   ]
  },
  {
   "cell_type": "code",
   "execution_count": 10,
   "metadata": {},
   "outputs": [
    {
     "name": "stdout",
     "output_type": "stream",
     "text": [
      "+---+-------+------+---------+\n",
      "| id|   name|   sal|     dept|\n",
      "+---+-------+------+---------+\n",
      "|  1| manish| 50000|       IT|\n",
      "|  2| vikash| 60000|    sales|\n",
      "|  3|raushan| 70000|marketing|\n",
      "|  4| mukesh| 80000|       IT|\n",
      "|  5| pritam| 90000|    sales|\n",
      "|  6| nikita| 45000|marketing|\n",
      "|  7| ragini| 55000|marketing|\n",
      "|  8| rakesh|100000|       IT|\n",
      "|  9| aditya| 65000|       IT|\n",
      "| 10|  rahul| 50000|marketing|\n",
      "+---+-------+------+---------+\n",
      "\n"
     ]
    }
   ],
   "source": [
    "emp_df.show()"
   ]
  },
  {
   "cell_type": "code",
   "execution_count": 11,
   "metadata": {},
   "outputs": [
    {
     "name": "stdout",
     "output_type": "stream",
     "text": [
      "+---------+--------+\n",
      "|     dept|sum(sal)|\n",
      "+---------+--------+\n",
      "|    sales|  150000|\n",
      "|       IT|  295000|\n",
      "|marketing|  220000|\n",
      "+---------+--------+\n",
      "\n"
     ]
    }
   ],
   "source": [
    "emp_df.groupBy(\"dept\")\\\n",
    "        .agg(sum(\"sal\")).show()"
   ]
  },
  {
   "cell_type": "code",
   "execution_count": 14,
   "metadata": {},
   "outputs": [],
   "source": [
    "my_data1 = [(1,'manish',50000,'IT', 'india'),\n",
    "(2,'vikash',60000,'sales', 'us'),\n",
    "(3,'raushan',70000,'marketing', 'india'),\n",
    "(4,'mukesh',80000,'IT', 'us' ),\n",
    "(5,'pritam',90000,'sales', 'india'),\n",
    "(6,'nikita',45000,'marketing', 'us'),\n",
    "(7,'ragini',55000,'marketing', 'india'),\n",
    "(8,'rakesh',100000,'IT', 'us'),\n",
    "(9,'aditya',65000,'IT', 'india'),\n",
    "(10,'rahul',50000,'marketing', 'us')]\n",
    "\n",
    "schema1 = ['id', 'name', 'sal', 'dept', 'country']\n",
    "\n",
    "employee_df = spark.createDataFrame(data=my_data1, schema = schema1)  "
   ]
  },
  {
   "cell_type": "code",
   "execution_count": 15,
   "metadata": {},
   "outputs": [
    {
     "name": "stdout",
     "output_type": "stream",
     "text": [
      "+---+-------+------+---------+-------+\n",
      "| id|   name|   sal|     dept|country|\n",
      "+---+-------+------+---------+-------+\n",
      "|  1| manish| 50000|       IT|  india|\n",
      "|  2| vikash| 60000|    sales|     us|\n",
      "|  3|raushan| 70000|marketing|  india|\n",
      "|  4| mukesh| 80000|       IT|     us|\n",
      "|  5| pritam| 90000|    sales|  india|\n",
      "|  6| nikita| 45000|marketing|     us|\n",
      "|  7| ragini| 55000|marketing|  india|\n",
      "|  8| rakesh|100000|       IT|     us|\n",
      "|  9| aditya| 65000|       IT|  india|\n",
      "| 10|  rahul| 50000|marketing|     us|\n",
      "+---+-------+------+---------+-------+\n",
      "\n"
     ]
    }
   ],
   "source": [
    "employee_df.show()"
   ]
  },
  {
   "cell_type": "code",
   "execution_count": 17,
   "metadata": {},
   "outputs": [
    {
     "name": "stdout",
     "output_type": "stream",
     "text": [
      "+---------+-------+--------+\n",
      "|     dept|country|sum(sal)|\n",
      "+---------+-------+--------+\n",
      "|marketing|  india|  125000|\n",
      "|       IT|  india|  115000|\n",
      "|    sales|  india|   90000|\n",
      "|    sales|     us|   60000|\n",
      "|       IT|     us|  180000|\n",
      "|marketing|     us|   95000|\n",
      "+---------+-------+--------+\n",
      "\n"
     ]
    }
   ],
   "source": [
    "employee_df.groupBy(\"dept\", \"country\")\\\n",
    "            .agg(sum(\"sal\"))\\\n",
    "            .orderBy(\"country\")\\\n",
    "            .show()"
   ]
  },
  {
   "cell_type": "code",
   "execution_count": null,
   "metadata": {},
   "outputs": [],
   "source": []
  },
  {
   "cell_type": "code",
   "execution_count": null,
   "metadata": {},
   "outputs": [],
   "source": []
  }
 ],
 "metadata": {
  "hide_input": false,
  "kernelspec": {
   "display_name": "Python 3",
   "language": "python",
   "name": "python3"
  },
  "language_info": {
   "codemirror_mode": {
    "name": "ipython",
    "version": 3
   },
   "file_extension": ".py",
   "mimetype": "text/x-python",
   "name": "python",
   "nbconvert_exporter": "python",
   "pygments_lexer": "ipython3",
   "version": "3.8.5"
  }
 },
 "nbformat": 4,
 "nbformat_minor": 4
}
