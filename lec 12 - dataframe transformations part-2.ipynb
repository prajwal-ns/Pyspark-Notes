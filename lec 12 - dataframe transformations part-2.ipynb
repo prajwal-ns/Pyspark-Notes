{
 "cells": [
  {
   "cell_type": "markdown",
   "metadata": {},
   "source": [
    "## dataframe transformations part-2\n",
    "\n",
    "Topics are as follows:\n",
    "\n",
    "* Aliasing\n",
    "* filter/where \n",
    "* literal\n",
    "* Adding & removing columns\n",
    "* Renaming columns\n",
    "* Casting data types"
   ]
  },
  {
   "cell_type": "code",
   "execution_count": 2,
   "metadata": {},
   "outputs": [],
   "source": [
    "\n",
    "import os\n",
    "\n",
    "\n",
    "import findspark\n",
    "findspark.init()\n",
    "\n",
    "import pyspark\n",
    "from pyspark.sql import SparkSession\n",
    "from pyspark.sql import *\n",
    "from pyspark.sql.functions import *\n",
    "from pyspark.sql.types import *\n",
    "import sys\n",
    "\n",
    "os.environ['PYSPARK_PYTHON'] = sys.executable\n",
    "os.environ['PYSPARK_DRIVER_PYTHON'] = sys.executable"
   ]
  },
  {
   "cell_type": "code",
   "execution_count": 3,
   "metadata": {},
   "outputs": [
    {
     "name": "stdout",
     "output_type": "stream",
     "text": [
      "<pyspark.sql.session.SparkSession object at 0x00000130C53A7C10>\n"
     ]
    }
   ],
   "source": [
    "spark = SparkSession.builder.master(\"local[*]\") \\\n",
    "    .appName(\"testing\") \\\n",
    "    .config(\"spark.driver.extraClassPath\", \"C:\\\\my_sql_jar\\\\mysql-connector-java-8.0.26.jar\") \\\n",
    "    .getOrCreate()\n",
    "print(spark)"
   ]
  },
  {
   "cell_type": "code",
   "execution_count": 4,
   "metadata": {},
   "outputs": [
    {
     "name": "stdout",
     "output_type": "stream",
     "text": [
      "+---+--------+---+------+------------+--------+\n",
      "| id|    name|age|salary|     address| nominee|\n",
      "+---+--------+---+------+------------+--------+\n",
      "|  1|  Manish| 26| 75000|       bihar|nominee1|\n",
      "|  2|  Nikita| 23|100000|uttarpradesh|nominee2|\n",
      "|  3|  Pritam| 22|150000|   Bangalore|   India|\n",
      "|  4|Prantosh| 17|200000|     Kolkata|   India|\n",
      "|  5|  Vikash| 31|300000|        null|nominee5|\n",
      "+---+--------+---+------+------------+--------+\n",
      "\n"
     ]
    }
   ],
   "source": [
    "employee_df = spark.read.format(\"csv\")\\\n",
    "                    .option(\"header\", \"true\")\\\n",
    "                    .option(\"inferschema\", \"true\")\\\n",
    "                    .option(\"mode\", \"PERMISSIVE\")\\\n",
    "                    .load(\"C:\\\\Users\\\\HP\\\\Pyspark\\\\employee.csv\\\\\")\n",
    "employee_df.show()"
   ]
  },
  {
   "cell_type": "code",
   "execution_count": 6,
   "metadata": {},
   "outputs": [],
   "source": [
    "employee_df.createOrReplaceTempView(\"emp_tbl\")"
   ]
  },
  {
   "cell_type": "code",
   "execution_count": 7,
   "metadata": {},
   "outputs": [
    {
     "name": "stdout",
     "output_type": "stream",
     "text": [
      "+-----------+--------+---+\n",
      "|employee_id|    name|age|\n",
      "+-----------+--------+---+\n",
      "|          1|  Manish| 26|\n",
      "|          2|  Nikita| 23|\n",
      "|          3|  Pritam| 22|\n",
      "|          4|Prantosh| 17|\n",
      "|          5|  Vikash| 31|\n",
      "+-----------+--------+---+\n",
      "\n"
     ]
    }
   ],
   "source": [
    "# Aliasing the column \n",
    "\n",
    "employee_df.select(col(\"id\").alias(\"employee_id\"), \"name\", \"age\").show()"
   ]
  },
  {
   "cell_type": "code",
   "execution_count": 9,
   "metadata": {},
   "outputs": [
    {
     "name": "stdout",
     "output_type": "stream",
     "text": [
      "+---+--------+---+------+-------+--------+\n",
      "| id|    name|age|salary|address| nominee|\n",
      "+---+--------+---+------+-------+--------+\n",
      "|  4|Prantosh| 17|200000|Kolkata|   India|\n",
      "|  5|  Vikash| 31|300000|   null|nominee5|\n",
      "+---+--------+---+------+-------+--------+\n",
      "\n"
     ]
    }
   ],
   "source": [
    "# filter condition\n",
    "employee_df.filter(col(\"salary\")>150000).show()"
   ]
  },
  {
   "cell_type": "code",
   "execution_count": 10,
   "metadata": {},
   "outputs": [
    {
     "name": "stdout",
     "output_type": "stream",
     "text": [
      "+---+--------+---+------+-------+--------+\n",
      "| id|    name|age|salary|address| nominee|\n",
      "+---+--------+---+------+-------+--------+\n",
      "|  4|Prantosh| 17|200000|Kolkata|   India|\n",
      "|  5|  Vikash| 31|300000|   null|nominee5|\n",
      "+---+--------+---+------+-------+--------+\n",
      "\n"
     ]
    }
   ],
   "source": [
    "# where condition\n",
    "employee_df.where(col(\"salary\")>150000).show()"
   ]
  },
  {
   "cell_type": "code",
   "execution_count": 11,
   "metadata": {},
   "outputs": [
    {
     "name": "stdout",
     "output_type": "stream",
     "text": [
      "+---+--------+---+------+-------+-------+\n",
      "| id|    name|age|salary|address|nominee|\n",
      "+---+--------+---+------+-------+-------+\n",
      "|  4|Prantosh| 17|200000|Kolkata|  India|\n",
      "+---+--------+---+------+-------+-------+\n",
      "\n"
     ]
    }
   ],
   "source": [
    "employee_df.where((col(\"salary\")>150000) & (col(\"age\")<18)).show()"
   ]
  },
  {
   "cell_type": "code",
   "execution_count": 15,
   "metadata": {},
   "outputs": [
    {
     "name": "stdout",
     "output_type": "stream",
     "text": [
      "+---+------+---+------+------------+--------+\n",
      "| id|  name|age|salary|     address| nominee|\n",
      "+---+------+---+------+------------+--------+\n",
      "|  2|Nikita| 23|100000|uttarpradesh|nominee2|\n",
      "+---+------+---+------+------------+--------+\n",
      "\n"
     ]
    }
   ],
   "source": [
    "employee_df.where(col(\"name\") == \"Nikita\").show()"
   ]
  },
  {
   "cell_type": "code",
   "execution_count": 17,
   "metadata": {},
   "outputs": [
    {
     "name": "stdout",
     "output_type": "stream",
     "text": [
      "+---+--------+---+------+------------+--------+---------+\n",
      "| id|    name|age|salary|     address| nominee|last_name|\n",
      "+---+--------+---+------+------------+--------+---------+\n",
      "|  1|  Manish| 26| 75000|       bihar|nominee1|   sharma|\n",
      "|  2|  Nikita| 23|100000|uttarpradesh|nominee2|   sharma|\n",
      "|  3|  Pritam| 22|150000|   Bangalore|   India|   sharma|\n",
      "|  4|Prantosh| 17|200000|     Kolkata|   India|   sharma|\n",
      "|  5|  Vikash| 31|300000|        null|nominee5|   sharma|\n",
      "+---+--------+---+------+------------+--------+---------+\n",
      "\n"
     ]
    }
   ],
   "source": [
    "## literal --  basically adding another column with default values\n",
    "\n",
    "employee_df.select(\"*\", lit(\"sharma\").alias(\"last_name\")).show()"
   ]
  },
  {
   "cell_type": "code",
   "execution_count": 18,
   "metadata": {},
   "outputs": [
    {
     "name": "stdout",
     "output_type": "stream",
     "text": [
      "+---+--------+---+------+------------+--------+--------+\n",
      "| id|    name|age|salary|     address| nominee|sur_name|\n",
      "+---+--------+---+------+------------+--------+--------+\n",
      "|  1|  Manish| 26| 75000|       bihar|nominee1|     idk|\n",
      "|  2|  Nikita| 23|100000|uttarpradesh|nominee2|     idk|\n",
      "|  3|  Pritam| 22|150000|   Bangalore|   India|     idk|\n",
      "|  4|Prantosh| 17|200000|     Kolkata|   India|     idk|\n",
      "|  5|  Vikash| 31|300000|        null|nominee5|     idk|\n",
      "+---+--------+---+------+------------+--------+--------+\n",
      "\n"
     ]
    }
   ],
   "source": [
    "## adding columns using withColumn\n",
    "\n",
    "employee_df.withColumn(\"sur_name\", lit(\"idk\")).show()"
   ]
  },
  {
   "cell_type": "code",
   "execution_count": 19,
   "metadata": {},
   "outputs": [
    {
     "name": "stdout",
     "output_type": "stream",
     "text": [
      "+-----------+--------+---+------+------------+--------+\n",
      "|employee_id|    name|age|salary|     address| nominee|\n",
      "+-----------+--------+---+------+------------+--------+\n",
      "|          1|  Manish| 26| 75000|       bihar|nominee1|\n",
      "|          2|  Nikita| 23|100000|uttarpradesh|nominee2|\n",
      "|          3|  Pritam| 22|150000|   Bangalore|   India|\n",
      "|          4|Prantosh| 17|200000|     Kolkata|   India|\n",
      "|          5|  Vikash| 31|300000|        null|nominee5|\n",
      "+-----------+--------+---+------+------------+--------+\n",
      "\n"
     ]
    }
   ],
   "source": [
    "## renaming columns using withColumnRenamed\n",
    "\n",
    "employee_df.withColumnRenamed(\"id\", \"employee_id\").show()"
   ]
  },
  {
   "cell_type": "code",
   "execution_count": 21,
   "metadata": {},
   "outputs": [
    {
     "name": "stdout",
     "output_type": "stream",
     "text": [
      "root\n",
      " |-- id: integer (nullable = true)\n",
      " |-- name: string (nullable = true)\n",
      " |-- age: integer (nullable = true)\n",
      " |-- salary: integer (nullable = true)\n",
      " |-- address: string (nullable = true)\n",
      " |-- nominee: string (nullable = true)\n",
      "\n"
     ]
    }
   ],
   "source": [
    "## Casting columns\n",
    "# checking the existing schema\n",
    "employee_df.printSchema()"
   ]
  },
  {
   "cell_type": "code",
   "execution_count": 22,
   "metadata": {
    "scrolled": true
   },
   "outputs": [
    {
     "name": "stdout",
     "output_type": "stream",
     "text": [
      "+---+--------+---+------+------------+--------+\n",
      "| id|    name|age|salary|     address| nominee|\n",
      "+---+--------+---+------+------------+--------+\n",
      "|1.0|  Manish| 26| 75000|       bihar|nominee1|\n",
      "|2.0|  Nikita| 23|100000|uttarpradesh|nominee2|\n",
      "|3.0|  Pritam| 22|150000|   Bangalore|   India|\n",
      "|4.0|Prantosh| 17|200000|     Kolkata|   India|\n",
      "|5.0|  Vikash| 31|300000|        null|nominee5|\n",
      "+---+--------+---+------+------------+--------+\n",
      "\n",
      "root\n",
      " |-- id: float (nullable = true)\n",
      " |-- name: string (nullable = true)\n",
      " |-- age: integer (nullable = true)\n",
      " |-- salary: integer (nullable = true)\n",
      " |-- address: string (nullable = true)\n",
      " |-- nominee: string (nullable = true)\n",
      "\n"
     ]
    }
   ],
   "source": [
    "# casting columns to float\n",
    "\n",
    "employee_df.withColumn(\"id\", col(\"id\").cast(\"float\")).show()\n",
    "\n",
    "employee_df.withColumn(\"id\", col(\"id\").cast(\"float\")).printSchema()"
   ]
  },
  {
   "cell_type": "code",
   "execution_count": 23,
   "metadata": {},
   "outputs": [
    {
     "name": "stdout",
     "output_type": "stream",
     "text": [
      "+---+--------+---+------+------------+--------+\n",
      "| id|    name|age|salary|     address| nominee|\n",
      "+---+--------+---+------+------------+--------+\n",
      "|1.0|  Manish| 26| 75000|       bihar|nominee1|\n",
      "|2.0|  Nikita| 23|100000|uttarpradesh|nominee2|\n",
      "|3.0|  Pritam| 22|150000|   Bangalore|   India|\n",
      "|4.0|Prantosh| 17|200000|     Kolkata|   India|\n",
      "|5.0|  Vikash| 31|300000|        null|nominee5|\n",
      "+---+--------+---+------+------------+--------+\n",
      "\n",
      "root\n",
      " |-- id: float (nullable = true)\n",
      " |-- name: string (nullable = true)\n",
      " |-- age: integer (nullable = true)\n",
      " |-- salary: long (nullable = true)\n",
      " |-- address: string (nullable = true)\n",
      " |-- nominee: string (nullable = true)\n",
      "\n"
     ]
    }
   ],
   "source": [
    "# casting column \"id\" to float and \"salary\" to long data type\n",
    "\n",
    "# data \n",
    "employee_df.withColumn(\"id\", col(\"id\").cast(\"float\"))\\\n",
    "           .withColumn(\"salary\", col(\"salary\").cast(\"long\"))\\\n",
    "           .show()\n",
    "#schema\n",
    "employee_df.withColumn(\"id\", col(\"id\").cast(\"float\"))\\\n",
    "           .withColumn(\"salary\", col(\"salary\").cast(\"long\"))\\\n",
    "           .printSchema()"
   ]
  },
  {
   "cell_type": "code",
   "execution_count": 24,
   "metadata": {},
   "outputs": [
    {
     "name": "stdout",
     "output_type": "stream",
     "text": [
      "+---+--------+---+------+------------+--------+\n",
      "| id|    name|age|salary|     address| nominee|\n",
      "+---+--------+---+------+------------+--------+\n",
      "|  1|  Manish| 26| 75000|       bihar|nominee1|\n",
      "|  2|  Nikita| 23|100000|uttarpradesh|nominee2|\n",
      "|  3|  Pritam| 22|150000|   Bangalore|   India|\n",
      "|  4|Prantosh| 17|200000|     Kolkata|   India|\n",
      "|  5|  Vikash| 31|300000|        null|nominee5|\n",
      "+---+--------+---+------+------------+--------+\n",
      "\n",
      "+--------+---+------+------------+\n",
      "|    name|age|salary|     address|\n",
      "+--------+---+------+------------+\n",
      "|  Manish| 26| 75000|       bihar|\n",
      "|  Nikita| 23|100000|uttarpradesh|\n",
      "|  Pritam| 22|150000|   Bangalore|\n",
      "|Prantosh| 17|200000|     Kolkata|\n",
      "|  Vikash| 31|300000|        null|\n",
      "+--------+---+------+------------+\n",
      "\n"
     ]
    }
   ],
   "source": [
    "# dropping columns\n",
    "# data before dropping col\n",
    "employee_df.show()\n",
    "\n",
    "#dropping col\n",
    "employee_df.drop(\"id\", \"nominee\").show()"
   ]
  },
  {
   "cell_type": "code",
   "execution_count": null,
   "metadata": {},
   "outputs": [],
   "source": []
  },
  {
   "cell_type": "code",
   "execution_count": null,
   "metadata": {},
   "outputs": [],
   "source": []
  },
  {
   "cell_type": "code",
   "execution_count": null,
   "metadata": {},
   "outputs": [],
   "source": []
  },
  {
   "cell_type": "code",
   "execution_count": null,
   "metadata": {},
   "outputs": [],
   "source": []
  },
  {
   "cell_type": "code",
   "execution_count": null,
   "metadata": {},
   "outputs": [],
   "source": []
  }
 ],
 "metadata": {
  "hide_input": false,
  "kernelspec": {
   "display_name": "Python 3",
   "language": "python",
   "name": "python3"
  },
  "language_info": {
   "codemirror_mode": {
    "name": "ipython",
    "version": 3
   },
   "file_extension": ".py",
   "mimetype": "text/x-python",
   "name": "python",
   "nbconvert_exporter": "python",
   "pygments_lexer": "ipython3",
   "version": "3.8.5"
  }
 },
 "nbformat": 4,
 "nbformat_minor": 4
}
