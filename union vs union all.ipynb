{
 "cells": [
  {
   "cell_type": "code",
   "execution_count": 1,
   "metadata": {},
   "outputs": [],
   "source": [
    "\n",
    "import os\n",
    "\n",
    "\n",
    "import findspark\n",
    "findspark.init()\n",
    "\n",
    "import pyspark\n",
    "from pyspark.sql import SparkSession\n",
    "from pyspark.sql import *\n",
    "from pyspark.sql.functions import *\n",
    "from pyspark.sql.types import *\n",
    "import sys\n",
    "\n",
    "os.environ['PYSPARK_PYTHON'] = sys.executable\n",
    "os.environ['PYSPARK_DRIVER_PYTHON'] = sys.executable"
   ]
  },
  {
   "cell_type": "code",
   "execution_count": 2,
   "metadata": {},
   "outputs": [
    {
     "name": "stdout",
     "output_type": "stream",
     "text": [
      "<pyspark.sql.session.SparkSession object at 0x00000249FD13C6D0>\n"
     ]
    }
   ],
   "source": [
    "spark = SparkSession.builder.master(\"local[*]\") \\\n",
    "    .appName(\"testing\") \\\n",
    "    .config(\"spark.driver.extraClassPath\", \"C:\\\\my_sql_jar\\\\mysql-connector-java-8.0.26.jar\") \\\n",
    "    .getOrCreate()\n",
    "print(spark)"
   ]
  },
  {
   "cell_type": "code",
   "execution_count": 4,
   "metadata": {},
   "outputs": [],
   "source": [
    "my_data=[(10 ,'Anil',50000, 18),\n",
    "(11 ,'Vikas',75000,  16),\n",
    "(12 ,'Nisha',40000,  18),\n",
    "(13 ,'Nidhi',60000,  17),\n",
    "(14 ,'Priya',80000,  18),\n",
    "(15 ,'Mohit',45000,  18),\n",
    "(16 ,'Rajesh',90000, 10),\n",
    "(17 ,'Raman',55000, 16),\n",
    "(18 ,'Sam',65000,   17)]"
   ]
  },
  {
   "cell_type": "code",
   "execution_count": 5,
   "metadata": {},
   "outputs": [],
   "source": [
    "my_schema = ['id', 'name', 'salary', 'mngr_id']"
   ]
  },
  {
   "cell_type": "code",
   "execution_count": 6,
   "metadata": {},
   "outputs": [],
   "source": [
    "manager_df = spark.createDataFrame(data = my_data, schema = my_schema)"
   ]
  },
  {
   "cell_type": "code",
   "execution_count": 7,
   "metadata": {},
   "outputs": [
    {
     "name": "stdout",
     "output_type": "stream",
     "text": [
      "+---+------+------+-------+\n",
      "| id|  name|salary|mngr_id|\n",
      "+---+------+------+-------+\n",
      "| 10|  Anil| 50000|     18|\n",
      "| 11| Vikas| 75000|     16|\n",
      "| 12| Nisha| 40000|     18|\n",
      "| 13| Nidhi| 60000|     17|\n",
      "| 14| Priya| 80000|     18|\n",
      "| 15| Mohit| 45000|     18|\n",
      "| 16|Rajesh| 90000|     10|\n",
      "| 17| Raman| 55000|     16|\n",
      "| 18|   Sam| 65000|     17|\n",
      "+---+------+------+-------+\n",
      "\n"
     ]
    }
   ],
   "source": [
    "manager_df.show()"
   ]
  },
  {
   "cell_type": "code",
   "execution_count": 8,
   "metadata": {},
   "outputs": [
    {
     "data": {
      "text/plain": [
       "9"
      ]
     },
     "execution_count": 8,
     "metadata": {},
     "output_type": "execute_result"
    }
   ],
   "source": [
    "# checking count of manager_df\n",
    "manager_df.count()"
   ]
  },
  {
   "cell_type": "code",
   "execution_count": 9,
   "metadata": {},
   "outputs": [],
   "source": [
    "# creating new df\n",
    "\n",
    "my_data1=[(19 ,'Sohan',50000, 18),\n",
    "(20 ,'Sima',75000,  17)]\n",
    "\n",
    "my_schema1 = ['id', 'name', 'salary', 'mngr_id']\n",
    "\n",
    "manager_df1 = spark.createDataFrame(data = my_data1, schema = my_schema1)"
   ]
  },
  {
   "cell_type": "code",
   "execution_count": 10,
   "metadata": {},
   "outputs": [
    {
     "name": "stdout",
     "output_type": "stream",
     "text": [
      "+---+-----+------+-------+\n",
      "| id| name|salary|mngr_id|\n",
      "+---+-----+------+-------+\n",
      "| 19|Sohan| 50000|     18|\n",
      "| 20| Sima| 75000|     17|\n",
      "+---+-----+------+-------+\n",
      "\n"
     ]
    }
   ],
   "source": [
    "manager_df1.show()"
   ]
  },
  {
   "cell_type": "code",
   "execution_count": 11,
   "metadata": {},
   "outputs": [
    {
     "data": {
      "text/plain": [
       "2"
      ]
     },
     "execution_count": 11,
     "metadata": {},
     "output_type": "execute_result"
    }
   ],
   "source": [
    "# checking count of manager_df1\n",
    "manager_df1.count()"
   ]
  },
  {
   "cell_type": "code",
   "execution_count": 12,
   "metadata": {},
   "outputs": [
    {
     "name": "stdout",
     "output_type": "stream",
     "text": [
      "+---+------+------+-------+\n",
      "| id|  name|salary|mngr_id|\n",
      "+---+------+------+-------+\n",
      "| 10|  Anil| 50000|     18|\n",
      "| 11| Vikas| 75000|     16|\n",
      "| 12| Nisha| 40000|     18|\n",
      "| 13| Nidhi| 60000|     17|\n",
      "| 14| Priya| 80000|     18|\n",
      "| 15| Mohit| 45000|     18|\n",
      "| 16|Rajesh| 90000|     10|\n",
      "| 17| Raman| 55000|     16|\n",
      "| 18|   Sam| 65000|     17|\n",
      "| 19| Sohan| 50000|     18|\n",
      "| 20|  Sima| 75000|     17|\n",
      "+---+------+------+-------+\n",
      "\n"
     ]
    }
   ],
   "source": [
    "manager_df.union(manager_df1).show()"
   ]
  },
  {
   "cell_type": "code",
   "execution_count": 14,
   "metadata": {},
   "outputs": [
    {
     "data": {
      "text/plain": [
       "11"
      ]
     },
     "execution_count": 14,
     "metadata": {},
     "output_type": "execute_result"
    }
   ],
   "source": [
    "# checking count of union of 2 df\n",
    "manager_df.union(manager_df1).count()"
   ]
  },
  {
   "cell_type": "code",
   "execution_count": 15,
   "metadata": {},
   "outputs": [],
   "source": [
    "# inserting 3 records named 'Sam'\n",
    "my_data2=[(10 ,'Anil',50000, 18),\n",
    "(11 ,'Vikas',75000,  16),\n",
    "(12 ,'Nisha',40000,  18),\n",
    "(13 ,'Nidhi',60000,  17),\n",
    "(14 ,'Priya',80000,  18),\n",
    "(15 ,'Mohit',45000,  18),\n",
    "(16 ,'Rajesh',90000, 10),\n",
    "(17 ,'Raman',55000, 16),\n",
    "(18 ,'Sam',65000,   17),\n",
    "(18 ,'Sam',55000,   17),\n",
    "(18 ,'Sam',65000,   17)]\n",
    "\n",
    "my_schema2 = ['id', 'name', 'salary', 'mngr_id']\n",
    "\n",
    "dups_df = spark.createDataFrame(data = my_data2, schema = my_schema2)"
   ]
  },
  {
   "cell_type": "code",
   "execution_count": 16,
   "metadata": {},
   "outputs": [
    {
     "name": "stdout",
     "output_type": "stream",
     "text": [
      "+---+------+------+-------+\n",
      "| id|  name|salary|mngr_id|\n",
      "+---+------+------+-------+\n",
      "| 10|  Anil| 50000|     18|\n",
      "| 11| Vikas| 75000|     16|\n",
      "| 12| Nisha| 40000|     18|\n",
      "| 13| Nidhi| 60000|     17|\n",
      "| 14| Priya| 80000|     18|\n",
      "| 15| Mohit| 45000|     18|\n",
      "| 16|Rajesh| 90000|     10|\n",
      "| 17| Raman| 55000|     16|\n",
      "| 18|   Sam| 65000|     17|\n",
      "| 18|   Sam| 55000|     17|\n",
      "| 18|   Sam| 65000|     17|\n",
      "+---+------+------+-------+\n",
      "\n"
     ]
    }
   ],
   "source": [
    "dups_df.show()"
   ]
  },
  {
   "cell_type": "code",
   "execution_count": 18,
   "metadata": {},
   "outputs": [
    {
     "data": {
      "text/plain": [
       "11"
      ]
     },
     "execution_count": 18,
     "metadata": {},
     "output_type": "execute_result"
    }
   ],
   "source": [
    "dups_df.count()"
   ]
  },
  {
   "cell_type": "code",
   "execution_count": 20,
   "metadata": {},
   "outputs": [
    {
     "data": {
      "text/plain": [
       "20"
      ]
     },
     "execution_count": 20,
     "metadata": {},
     "output_type": "execute_result"
    }
   ],
   "source": [
    "## union and union all difference in df\n",
    "# manager_df - count = 9\n",
    "# dups_df - count = 11\n",
    "# UNION\n",
    "\n",
    "manager_df.union(dups_df).count()"
   ]
  },
  {
   "cell_type": "code",
   "execution_count": 21,
   "metadata": {},
   "outputs": [
    {
     "data": {
      "text/plain": [
       "20"
      ]
     },
     "execution_count": 21,
     "metadata": {},
     "output_type": "execute_result"
    }
   ],
   "source": [
    "# UNION ALL\n",
    "\n",
    "manager_df.unionAll(dups_df).count()"
   ]
  },
  {
   "cell_type": "code",
   "execution_count": 22,
   "metadata": {},
   "outputs": [],
   "source": [
    "# to use in spark sql view/table needs to be created\n",
    "\n",
    "manager_df.createOrReplaceTempView(\"manager_df_tbl\")\n",
    "dups_df.createOrReplaceTempView(\"dups_df_tbl\")"
   ]
  },
  {
   "cell_type": "code",
   "execution_count": 23,
   "metadata": {},
   "outputs": [
    {
     "data": {
      "text/plain": [
       "10"
      ]
     },
     "execution_count": 23,
     "metadata": {},
     "output_type": "execute_result"
    }
   ],
   "source": [
    "# UNION in spark sql\n",
    "spark.sql(\"\"\"\n",
    "select * from manager_df_tbl\n",
    "union \n",
    "select * from dups_df_tbl\n",
    "\"\"\").count()"
   ]
  },
  {
   "cell_type": "code",
   "execution_count": 25,
   "metadata": {},
   "outputs": [
    {
     "name": "stdout",
     "output_type": "stream",
     "text": [
      "+---+------+------+-------+\n",
      "| id|  name|salary|mngr_id|\n",
      "+---+------+------+-------+\n",
      "| 10|  Anil| 50000|     18|\n",
      "| 11| Vikas| 75000|     16|\n",
      "| 12| Nisha| 40000|     18|\n",
      "| 13| Nidhi| 60000|     17|\n",
      "| 15| Mohit| 45000|     18|\n",
      "| 14| Priya| 80000|     18|\n",
      "| 16|Rajesh| 90000|     10|\n",
      "| 18|   Sam| 65000|     17|\n",
      "| 17| Raman| 55000|     16|\n",
      "| 18|   Sam| 55000|     17|\n",
      "+---+------+------+-------+\n",
      "\n"
     ]
    }
   ],
   "source": [
    "# UNION in spark sql\n",
    "spark.sql(\"\"\"\n",
    "select * from manager_df_tbl\n",
    "union \n",
    "select * from dups_df_tbl\n",
    "\"\"\").show()"
   ]
  },
  {
   "cell_type": "code",
   "execution_count": 24,
   "metadata": {},
   "outputs": [
    {
     "data": {
      "text/plain": [
       "20"
      ]
     },
     "execution_count": 24,
     "metadata": {},
     "output_type": "execute_result"
    }
   ],
   "source": [
    "# UNION ALL in spark sql\n",
    "spark.sql(\"\"\"\n",
    "select * from manager_df_tbl\n",
    "union all\n",
    "select * from dups_df_tbl\n",
    "\"\"\").count()"
   ]
  },
  {
   "cell_type": "code",
   "execution_count": 26,
   "metadata": {
    "scrolled": true
   },
   "outputs": [
    {
     "name": "stdout",
     "output_type": "stream",
     "text": [
      "+---+------+------+-------+\n",
      "| id|  name|salary|mngr_id|\n",
      "+---+------+------+-------+\n",
      "| 10|  Anil| 50000|     18|\n",
      "| 11| Vikas| 75000|     16|\n",
      "| 12| Nisha| 40000|     18|\n",
      "| 13| Nidhi| 60000|     17|\n",
      "| 14| Priya| 80000|     18|\n",
      "| 15| Mohit| 45000|     18|\n",
      "| 16|Rajesh| 90000|     10|\n",
      "| 17| Raman| 55000|     16|\n",
      "| 18|   Sam| 65000|     17|\n",
      "| 10|  Anil| 50000|     18|\n",
      "| 11| Vikas| 75000|     16|\n",
      "| 12| Nisha| 40000|     18|\n",
      "| 13| Nidhi| 60000|     17|\n",
      "| 14| Priya| 80000|     18|\n",
      "| 15| Mohit| 45000|     18|\n",
      "| 16|Rajesh| 90000|     10|\n",
      "| 17| Raman| 55000|     16|\n",
      "| 18|   Sam| 65000|     17|\n",
      "| 18|   Sam| 55000|     17|\n",
      "| 18|   Sam| 65000|     17|\n",
      "+---+------+------+-------+\n",
      "\n"
     ]
    }
   ],
   "source": [
    "# UNION ALL in spark sql\n",
    "spark.sql(\"\"\"\n",
    "select * from manager_df_tbl\n",
    "union all\n",
    "select * from dups_df_tbl\n",
    "\"\"\").show()"
   ]
  },
  {
   "cell_type": "markdown",
   "metadata": {},
   "source": [
    "### Note: in the dataframe there's no difference between UNION and UNION ALL but if we're using in spark sql or sql, UNION results in unique records of both the dataframe and UNION ALL  results in all the records of both the df"
   ]
  },
  {
   "cell_type": "code",
   "execution_count": null,
   "metadata": {},
   "outputs": [],
   "source": []
  },
  {
   "cell_type": "code",
   "execution_count": null,
   "metadata": {},
   "outputs": [],
   "source": []
  },
  {
   "cell_type": "code",
   "execution_count": null,
   "metadata": {},
   "outputs": [],
   "source": []
  },
  {
   "cell_type": "code",
   "execution_count": null,
   "metadata": {},
   "outputs": [],
   "source": []
  },
  {
   "cell_type": "code",
   "execution_count": null,
   "metadata": {},
   "outputs": [],
   "source": []
  }
 ],
 "metadata": {
  "hide_input": false,
  "kernelspec": {
   "display_name": "Python 3",
   "language": "python",
   "name": "python3"
  },
  "language_info": {
   "codemirror_mode": {
    "name": "ipython",
    "version": 3
   },
   "file_extension": ".py",
   "mimetype": "text/x-python",
   "name": "python",
   "nbconvert_exporter": "python",
   "pygments_lexer": "ipython3",
   "version": "3.8.5"
  }
 },
 "nbformat": 4,
 "nbformat_minor": 4
}
