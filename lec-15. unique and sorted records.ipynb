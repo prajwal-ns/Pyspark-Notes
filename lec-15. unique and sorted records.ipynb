{
 "cells": [
  {
   "cell_type": "markdown",
   "metadata": {},
   "source": [
    "# DISTINCT & SORT\n",
    "\n",
    "In this notebook below topics discussed:\n",
    "\n",
    "#### 1. Checking unique records in table\n",
    "#### 2. Deleting duplicate records[row level]\n",
    "#### 3. Sorting the records\n",
    "#### 4. leetcode problem"
   ]
  },
  {
   "cell_type": "code",
   "execution_count": 1,
   "metadata": {},
   "outputs": [
    {
     "name": "stdout",
     "output_type": "stream",
     "text": [
      "<pyspark.sql.session.SparkSession object at 0x00000221DA4F2E20>\n"
     ]
    }
   ],
   "source": [
    "\n",
    "import os\n",
    "\n",
    "\n",
    "import findspark\n",
    "findspark.init()\n",
    "\n",
    "import pyspark\n",
    "from pyspark.sql import SparkSession\n",
    "from pyspark.sql import *\n",
    "from pyspark.sql.functions import *\n",
    "from pyspark.sql.types import *\n",
    "import sys\n",
    "\n",
    "os.environ['PYSPARK_PYTHON'] = sys.executable\n",
    "os.environ['PYSPARK_DRIVER_PYTHON'] = sys.executable\n",
    "\n",
    "spark = SparkSession.builder.master(\"local[*]\") \\\n",
    "    .appName(\"testing\") \\\n",
    "    .config(\"spark.driver.extraClassPath\", \"C:\\\\my_sql_jar\\\\mysql-connector-java-8.0.26.jar\") \\\n",
    "    .getOrCreate()\n",
    "print(spark)"
   ]
  },
  {
   "cell_type": "code",
   "execution_count": 2,
   "metadata": {},
   "outputs": [],
   "source": [
    "my_data=[(10 ,'Anil',50000, 18),\n",
    "(11 ,'Vikas',75000,  16),\n",
    "(12 ,'Nisha',40000,  18),\n",
    "(13 ,'Nidhi',60000,  17),\n",
    "(14 ,'Priya',80000,  18),\n",
    "(15 ,'Mohit',45000,  18),\n",
    "(16 ,'Rajesh',90000, 10),\n",
    "(17 ,'Raman',55000, 16),\n",
    "(18 ,'Sam',65000,   17),\n",
    "(15 ,'Mohit',45000,  18),\n",
    "(13 ,'Nidhi',60000,  17),      \n",
    "(14 ,'Priya',90000,  18),  \n",
    "(18 ,'Sam',65000,   17)]\n",
    "\n",
    "my_schema = ['id', 'name', 'sal', 'mngr_id']\n",
    "\n",
    "manager_df = spark.createDataFrame(data = my_data, schema = my_schema)"
   ]
  },
  {
   "cell_type": "code",
   "execution_count": 3,
   "metadata": {},
   "outputs": [
    {
     "name": "stdout",
     "output_type": "stream",
     "text": [
      "+---+------+-----+-------+\n",
      "| id|  name|  sal|mngr_id|\n",
      "+---+------+-----+-------+\n",
      "| 10|  Anil|50000|     18|\n",
      "| 11| Vikas|75000|     16|\n",
      "| 12| Nisha|40000|     18|\n",
      "| 13| Nidhi|60000|     17|\n",
      "| 14| Priya|80000|     18|\n",
      "| 15| Mohit|45000|     18|\n",
      "| 16|Rajesh|90000|     10|\n",
      "| 17| Raman|55000|     16|\n",
      "| 18|   Sam|65000|     17|\n",
      "| 15| Mohit|45000|     18|\n",
      "| 13| Nidhi|60000|     17|\n",
      "| 14| Priya|90000|     18|\n",
      "| 18|   Sam|65000|     17|\n",
      "+---+------+-----+-------+\n",
      "\n"
     ]
    }
   ],
   "source": [
    "manager_df.show()"
   ]
  },
  {
   "cell_type": "code",
   "execution_count": 4,
   "metadata": {},
   "outputs": [
    {
     "data": {
      "text/plain": [
       "13"
      ]
     },
     "execution_count": 4,
     "metadata": {},
     "output_type": "execute_result"
    }
   ],
   "source": [
    "# checking the count\n",
    "manager_df.count()"
   ]
  },
  {
   "cell_type": "code",
   "execution_count": 6,
   "metadata": {},
   "outputs": [
    {
     "data": {
      "text/plain": [
       "10"
      ]
     },
     "execution_count": 6,
     "metadata": {},
     "output_type": "execute_result"
    }
   ],
   "source": [
    "# checking the count after applying distinct\n",
    "\n",
    "manager_df.distinct().count()"
   ]
  },
  {
   "cell_type": "code",
   "execution_count": 7,
   "metadata": {},
   "outputs": [
    {
     "name": "stdout",
     "output_type": "stream",
     "text": [
      "+---+------+-----+-------+\n",
      "| id|  name|  sal|mngr_id|\n",
      "+---+------+-----+-------+\n",
      "| 10|  Anil|50000|     18|\n",
      "| 12| Nisha|40000|     18|\n",
      "| 11| Vikas|75000|     16|\n",
      "| 15| Mohit|45000|     18|\n",
      "| 14| Priya|80000|     18|\n",
      "| 13| Nidhi|60000|     17|\n",
      "| 16|Rajesh|90000|     10|\n",
      "| 18|   Sam|65000|     17|\n",
      "| 17| Raman|55000|     16|\n",
      "| 14| Priya|90000|     18|\n",
      "+---+------+-----+-------+\n",
      "\n"
     ]
    }
   ],
   "source": [
    "# Sam has 2 records and 1 is removed\n",
    "manager_df.distinct().show()"
   ]
  },
  {
   "cell_type": "code",
   "execution_count": 11,
   "metadata": {},
   "outputs": [
    {
     "name": "stdout",
     "output_type": "stream",
     "text": [
      "Before applying DISTINCT, observe names ex: 'Priya' etc.,\n",
      "+---+------+\n",
      "| id|  name|\n",
      "+---+------+\n",
      "| 10|  Anil|\n",
      "| 11| Vikas|\n",
      "| 12| Nisha|\n",
      "| 13| Nidhi|\n",
      "| 14| Priya|\n",
      "| 15| Mohit|\n",
      "| 16|Rajesh|\n",
      "| 17| Raman|\n",
      "| 18|   Sam|\n",
      "| 15| Mohit|\n",
      "| 13| Nidhi|\n",
      "| 14| Priya|\n",
      "| 18|   Sam|\n",
      "+---+------+\n",
      "\n",
      "After applying DISTINCT\n",
      "+---+------+\n",
      "| id|  name|\n",
      "+---+------+\n",
      "| 10|  Anil|\n",
      "| 11| Vikas|\n",
      "| 12| Nisha|\n",
      "| 13| Nidhi|\n",
      "| 15| Mohit|\n",
      "| 14| Priya|\n",
      "| 17| Raman|\n",
      "| 18|   Sam|\n",
      "| 16|Rajesh|\n",
      "+---+------+\n",
      "\n"
     ]
    }
   ],
   "source": [
    "# if specific columns are selected say: id, name\n",
    "\n",
    "print(\"Before applying DISTINCT, observe names ex: 'Priya' etc.,\")\n",
    "manager_df.select(\"id\", \"name\").show()\n",
    "\n",
    "print(\"After applying DISTINCT\")\n",
    "manager_df.select(\"id\", \"name\").distinct().show()"
   ]
  },
  {
   "cell_type": "code",
   "execution_count": 12,
   "metadata": {},
   "outputs": [
    {
     "name": "stdout",
     "output_type": "stream",
     "text": [
      "+---+------+-----+-------+\n",
      "| id|  name|  sal|mngr_id|\n",
      "+---+------+-----+-------+\n",
      "| 10|  Anil|50000|     18|\n",
      "| 12| Nisha|40000|     18|\n",
      "| 11| Vikas|75000|     16|\n",
      "| 15| Mohit|45000|     18|\n",
      "| 14| Priya|80000|     18|\n",
      "| 13| Nidhi|60000|     17|\n",
      "| 16|Rajesh|90000|     10|\n",
      "| 18|   Sam|65000|     17|\n",
      "| 17| Raman|55000|     16|\n",
      "| 14| Priya|90000|     18|\n",
      "+---+------+-----+-------+\n",
      "\n"
     ]
    }
   ],
   "source": [
    "## Droppping duplicate records\n",
    "\n",
    "manager_df.drop_duplicates([\"id\", \"name\", \"sal\", \"mngr_id\"]).show()"
   ]
  },
  {
   "cell_type": "code",
   "execution_count": 19,
   "metadata": {},
   "outputs": [
    {
     "name": "stdout",
     "output_type": "stream",
     "text": [
      "+---+------+-----+-------+\n",
      "| id|  name|  sal|mngr_id|\n",
      "+---+------+-----+-------+\n",
      "| 14| Priya|90000|     18|\n",
      "| 16|Rajesh|90000|     10|\n",
      "| 14| Priya|80000|     18|\n",
      "| 11| Vikas|75000|     16|\n",
      "| 18|   Sam|65000|     17|\n",
      "| 18|   Sam|65000|     17|\n",
      "| 13| Nidhi|60000|     17|\n",
      "| 13| Nidhi|60000|     17|\n",
      "| 17| Raman|55000|     16|\n",
      "| 10|  Anil|50000|     18|\n",
      "| 15| Mohit|45000|     18|\n",
      "| 15| Mohit|45000|     18|\n",
      "| 12| Nisha|40000|     18|\n",
      "+---+------+-----+-------+\n",
      "\n"
     ]
    }
   ],
   "source": [
    "# Sorting \n",
    "\n",
    "manager_df.sort(col(\"sal\").desc()).show()"
   ]
  },
  {
   "cell_type": "code",
   "execution_count": 21,
   "metadata": {},
   "outputs": [
    {
     "name": "stdout",
     "output_type": "stream",
     "text": [
      "+---+------+-----+-------+\n",
      "| id|  name|  sal|mngr_id|\n",
      "+---+------+-----+-------+\n",
      "| 14| Priya|90000|     18|\n",
      "| 16|Rajesh|90000|     10|\n",
      "| 14| Priya|80000|     18|\n",
      "| 11| Vikas|75000|     16|\n",
      "| 18|   Sam|65000|     17|\n",
      "| 18|   Sam|65000|     17|\n",
      "| 13| Nidhi|60000|     17|\n",
      "| 13| Nidhi|60000|     17|\n",
      "| 17| Raman|55000|     16|\n",
      "| 10|  Anil|50000|     18|\n",
      "| 15| Mohit|45000|     18|\n",
      "| 15| Mohit|45000|     18|\n",
      "| 12| Nisha|40000|     18|\n",
      "+---+------+-----+-------+\n",
      "\n"
     ]
    }
   ],
   "source": [
    "# Sorting mpre than one column\n",
    "\n",
    "manager_df.sort(col(\"sal\").desc(), col(\"id\").asc()).show()"
   ]
  },
  {
   "cell_type": "markdown",
   "metadata": {},
   "source": [
    "[leet code problem](https://leetcode.com/problems/find-customer-referee/description/?envType=study-plan-v2&envId=top-sql-50)"
   ]
  },
  {
   "cell_type": "code",
   "execution_count": 23,
   "metadata": {},
   "outputs": [],
   "source": [
    "leet_code_data = [\n",
    "    (1, 'Will', None),\n",
    "    (2, 'Jane', None),\n",
    "    (3, 'Alex', 2),\n",
    "    (4, 'Bill', None),\n",
    "    (5, 'Zack', 1),\n",
    "    (6, 'Mark', 2)\n",
    "]\n",
    "\n",
    "l_schema = ['id', 'name', 'referee_id']\n",
    "\n",
    "leet_df = spark.createDataFrame(data = leet_code_data, schema = l_schema)"
   ]
  },
  {
   "cell_type": "code",
   "execution_count": 24,
   "metadata": {},
   "outputs": [
    {
     "name": "stdout",
     "output_type": "stream",
     "text": [
      "+---+----+----------+\n",
      "| id|name|referee_id|\n",
      "+---+----+----------+\n",
      "|  1|Will|      null|\n",
      "|  2|Jane|      null|\n",
      "|  3|Alex|         2|\n",
      "|  4|Bill|      null|\n",
      "|  5|Zack|         1|\n",
      "|  6|Mark|         2|\n",
      "+---+----+----------+\n",
      "\n"
     ]
    }
   ],
   "source": [
    "leet_df.show()"
   ]
  },
  {
   "cell_type": "code",
   "execution_count": 32,
   "metadata": {},
   "outputs": [
    {
     "name": "stdout",
     "output_type": "stream",
     "text": [
      "+----+\n",
      "|name|\n",
      "+----+\n",
      "|Will|\n",
      "|Jane|\n",
      "|Bill|\n",
      "|Zack|\n",
      "+----+\n",
      "\n"
     ]
    }
   ],
   "source": [
    "leet_df.withColumn(\"referee_id\", when(col(\"referee_id\").isNull(), 0)\\\n",
    "                                   .otherwise(col(\"referee_id\")))\\\n",
    "        .filter(col(\"referee_id\") != 2)\\\n",
    "        .select(col(\"name\"))\\\n",
    "        .show()\n",
    "   "
   ]
  },
  {
   "cell_type": "code",
   "execution_count": null,
   "metadata": {},
   "outputs": [],
   "source": []
  },
  {
   "cell_type": "code",
   "execution_count": null,
   "metadata": {},
   "outputs": [],
   "source": []
  },
  {
   "cell_type": "code",
   "execution_count": null,
   "metadata": {},
   "outputs": [],
   "source": []
  },
  {
   "cell_type": "code",
   "execution_count": null,
   "metadata": {},
   "outputs": [],
   "source": []
  },
  {
   "cell_type": "code",
   "execution_count": null,
   "metadata": {},
   "outputs": [],
   "source": []
  },
  {
   "cell_type": "code",
   "execution_count": null,
   "metadata": {},
   "outputs": [],
   "source": []
  },
  {
   "cell_type": "code",
   "execution_count": null,
   "metadata": {},
   "outputs": [],
   "source": []
  }
 ],
 "metadata": {
  "hide_input": false,
  "kernelspec": {
   "display_name": "Python 3",
   "language": "python",
   "name": "python3"
  },
  "language_info": {
   "codemirror_mode": {
    "name": "ipython",
    "version": 3
   },
   "file_extension": ".py",
   "mimetype": "text/x-python",
   "name": "python",
   "nbconvert_exporter": "python",
   "pygments_lexer": "ipython3",
   "version": "3.8.5"
  }
 },
 "nbformat": 4,
 "nbformat_minor": 4
}
