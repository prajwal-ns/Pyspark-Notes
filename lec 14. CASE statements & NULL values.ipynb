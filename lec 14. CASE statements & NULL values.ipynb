{
 "cells": [
  {
   "cell_type": "code",
   "execution_count": 1,
   "metadata": {},
   "outputs": [
    {
     "name": "stdout",
     "output_type": "stream",
     "text": [
      "<pyspark.sql.session.SparkSession object at 0x00000256F8670E20>\n"
     ]
    }
   ],
   "source": [
    "\n",
    "import os\n",
    "\n",
    "\n",
    "import findspark\n",
    "findspark.init()\n",
    "\n",
    "import pyspark\n",
    "from pyspark.sql import SparkSession\n",
    "from pyspark.sql import *\n",
    "from pyspark.sql.functions import *\n",
    "from pyspark.sql.types import *\n",
    "import sys\n",
    "\n",
    "os.environ['PYSPARK_PYTHON'] = sys.executable\n",
    "os.environ['PYSPARK_DRIVER_PYTHON'] = sys.executable\n",
    "\n",
    "spark = SparkSession.builder.master(\"local[*]\") \\\n",
    "    .appName(\"testing\") \\\n",
    "    .config(\"spark.driver.extraClassPath\", \"C:\\\\my_sql_jar\\\\mysql-connector-java-8.0.26.jar\") \\\n",
    "    .getOrCreate()\n",
    "print(spark)"
   ]
  },
  {
   "cell_type": "code",
   "execution_count": 2,
   "metadata": {},
   "outputs": [
    {
     "name": "stdout",
     "output_type": "stream",
     "text": [
      "+----+-------+----+------+-------+-----------+\n",
      "|  id|   name| age|salary|country|       dept|\n",
      "+----+-------+----+------+-------+-----------+\n",
      "|   1| manish|  26| 20000|  india|         IT|\n",
      "|   2|  rahul|null| 40000|germany|engineering|\n",
      "|   3|  pawan|  12| 60000|  india|      sales|\n",
      "|   4|roshini|  44|  null|     uk|engineering|\n",
      "|   5|raushan|  35| 70000|  india|      sales|\n",
      "|   6|   null|  29|200000|     uk|         IT|\n",
      "|   7|   adam|  37| 65000|     us|         IT|\n",
      "|   8|  chris|  16| 40000|     us|      sales|\n",
      "|null|   null|null|  null|   null|       null|\n",
      "|   7|   adam|  37| 65000|     us|         IT|\n",
      "+----+-------+----+------+-------+-----------+\n",
      "\n"
     ]
    }
   ],
   "source": [
    "emp_data = [\n",
    "(1,'manish',26,20000,'india','IT'),\n",
    "(2,'rahul',None,40000,'germany','engineering'),\n",
    "(3,'pawan',12,60000,'india','sales'),\n",
    "(4,'roshini',44,None,'uk','engineering'),\n",
    "(5,'raushan',35,70000,'india','sales'),\n",
    "(6,None,29,200000,'uk','IT'),\n",
    "(7,'adam',37,65000,'us','IT'),\n",
    "(8,'chris',16,40000,'us','sales'),\n",
    "(None,None,None,None,None,None),\n",
    "(7,'adam',37,65000,'us','IT')\n",
    "]\n",
    "\n",
    "emp_schema = ['id','name', 'age', 'salary', 'country', 'dept']\n",
    "\n",
    "emp_df = spark.createDataFrame(data = emp_data, schema = emp_schema)\n",
    "emp_df.show()"
   ]
  },
  {
   "cell_type": "code",
   "execution_count": 5,
   "metadata": {
    "scrolled": true
   },
   "outputs": [
    {
     "name": "stdout",
     "output_type": "stream",
     "text": [
      "+----+-------+----+------+-------+-----------+--------+\n",
      "|  id|   name| age|salary|country|       dept|   adult|\n",
      "+----+-------+----+------+-------+-----------+--------+\n",
      "|   1| manish|  26| 20000|  india|         IT|     Yes|\n",
      "|   2|  rahul|null| 40000|germany|engineering|No value|\n",
      "|   3|  pawan|  12| 60000|  india|      sales|      No|\n",
      "|   4|roshini|  44|  null|     uk|engineering|     Yes|\n",
      "|   5|raushan|  35| 70000|  india|      sales|     Yes|\n",
      "|   6|   null|  29|200000|     uk|         IT|     Yes|\n",
      "|   7|   adam|  37| 65000|     us|         IT|     Yes|\n",
      "|   8|  chris|  16| 40000|     us|      sales|      No|\n",
      "|null|   null|null|  null|   null|       null|No value|\n",
      "|   7|   adam|  37| 65000|     us|         IT|     Yes|\n",
      "+----+-------+----+------+-------+-----------+--------+\n",
      "\n"
     ]
    }
   ],
   "source": [
    "# adding extra column named \"adult\", in this column checking if each record is adult or not using WHEN/OTHERWISE condition\n",
    "\n",
    "emp_df.withColumn(\"adult\", when(col(\"age\")<18, \"No\")\n",
    "                           .when(col(\"age\")>18, \"Yes\")\n",
    "                           .otherwise(\"No value\")).show()"
   ]
  },
  {
   "cell_type": "code",
   "execution_count": 7,
   "metadata": {},
   "outputs": [
    {
     "name": "stdout",
     "output_type": "stream",
     "text": [
      "+----+-------+---+------+-------+-----------+-----+\n",
      "|  id|   name|age|salary|country|       dept|adult|\n",
      "+----+-------+---+------+-------+-----------+-----+\n",
      "|   1| manish| 26| 20000|  india|         IT|  Yes|\n",
      "|   2|  rahul| 20| 40000|germany|engineering|  Yes|\n",
      "|   3|  pawan| 12| 60000|  india|      sales|   No|\n",
      "|   4|roshini| 44|  null|     uk|engineering|  Yes|\n",
      "|   5|raushan| 35| 70000|  india|      sales|  Yes|\n",
      "|   6|   null| 29|200000|     uk|         IT|  Yes|\n",
      "|   7|   adam| 37| 65000|     us|         IT|  Yes|\n",
      "|   8|  chris| 16| 40000|     us|      sales|   No|\n",
      "|null|   null| 20|  null|   null|       null|  Yes|\n",
      "|   7|   adam| 37| 65000|     us|         IT|  Yes|\n",
      "+----+-------+---+------+-------+-----------+-----+\n",
      "\n"
     ]
    }
   ],
   "source": [
    "# fixing all the null values first by giving default value as 20 if null then adding adult column \n",
    "\n",
    "emp_df.withColumn(\"age\", when(col(\"age\").isNull(), lit(20))\n",
    "                         .otherwise(col(\"age\")))\\\n",
    "      .withColumn(\"adult\", when(col(\"age\")<18, \"No\")\n",
    "                           .when(col(\"age\")>18, \"Yes\")\n",
    "                           .otherwise(\"No value\")).show()"
   ]
  },
  {
   "cell_type": "code",
   "execution_count": 8,
   "metadata": {},
   "outputs": [
    {
     "name": "stdout",
     "output_type": "stream",
     "text": [
      "+----+-------+----+------+-------+-----------+--------+\n",
      "|  id|   name| age|salary|country|       dept|age_wise|\n",
      "+----+-------+----+------+-------+-----------+--------+\n",
      "|   1| manish|  26| 20000|  india|         IT|     Mid|\n",
      "|   2|  rahul|null| 40000|germany|engineering|  Senior|\n",
      "|   3|  pawan|  12| 60000|  india|      sales|   Minor|\n",
      "|   4|roshini|  44|  null|     uk|engineering|  Senior|\n",
      "|   5|raushan|  35| 70000|  india|      sales|  Senior|\n",
      "|   6|   null|  29|200000|     uk|         IT|     Mid|\n",
      "|   7|   adam|  37| 65000|     us|         IT|  Senior|\n",
      "|   8|  chris|  16| 40000|     us|      sales|   Minor|\n",
      "|null|   null|null|  null|   null|       null|  Senior|\n",
      "|   7|   adam|  37| 65000|     us|         IT|  Senior|\n",
      "+----+-------+----+------+-------+-----------+--------+\n",
      "\n"
     ]
    }
   ],
   "source": [
    "emp_df.withColumn(\"age_wise\", when((col(\"age\")>0) & (col(\"age\")<18), \"Minor\")\n",
    "                              .when((col(\"age\")>=18) & (col(\"age\")<30), \"Mid\")\n",
    "                              .otherwise(\"Senior\"))\\\n",
    "                              .show()"
   ]
  },
  {
   "cell_type": "code",
   "execution_count": null,
   "metadata": {},
   "outputs": [],
   "source": []
  },
  {
   "cell_type": "code",
   "execution_count": null,
   "metadata": {},
   "outputs": [],
   "source": []
  },
  {
   "cell_type": "code",
   "execution_count": null,
   "metadata": {},
   "outputs": [],
   "source": []
  },
  {
   "cell_type": "code",
   "execution_count": null,
   "metadata": {},
   "outputs": [],
   "source": []
  }
 ],
 "metadata": {
  "hide_input": false,
  "kernelspec": {
   "display_name": "Python 3",
   "language": "python",
   "name": "python3"
  },
  "language_info": {
   "codemirror_mode": {
    "name": "ipython",
    "version": 3
   },
   "file_extension": ".py",
   "mimetype": "text/x-python",
   "name": "python",
   "nbconvert_exporter": "python",
   "pygments_lexer": "ipython3",
   "version": "3.8.5"
  }
 },
 "nbformat": 4,
 "nbformat_minor": 4
}
