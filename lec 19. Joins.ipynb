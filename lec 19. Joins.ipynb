{
 "cells": [
  {
   "cell_type": "code",
   "execution_count": 1,
   "metadata": {},
   "outputs": [],
   "source": [
    "\n",
    "import os\n",
    "\n",
    "\n",
    "import findspark\n",
    "findspark.init()\n",
    "\n",
    "import pyspark\n",
    "from pyspark.sql import SparkSession\n",
    "from pyspark.sql import *\n",
    "from pyspark.sql.functions import *\n",
    "from pyspark.sql.types import *\n",
    "import sys\n",
    "\n",
    "os.environ['PYSPARK_PYTHON'] = sys.executable\n",
    "os.environ['PYSPARK_DRIVER_PYTHON'] = sys.executable"
   ]
  },
  {
   "cell_type": "code",
   "execution_count": 2,
   "metadata": {},
   "outputs": [
    {
     "name": "stdout",
     "output_type": "stream",
     "text": [
      "<pyspark.sql.session.SparkSession object at 0x0000014D5D28C6D0>\n"
     ]
    }
   ],
   "source": [
    "spark = SparkSession.builder.master(\"local[*]\") \\\n",
    "    .appName(\"testing\") \\\n",
    "    .config(\"spark.driver.extraClassPath\", \"C:\\\\my_sql_jar\\\\mysql-connector-java-8.0.26.jar\") \\\n",
    "    .getOrCreate()\n",
    "print(spark)"
   ]
  },
  {
   "cell_type": "code",
   "execution_count": 4,
   "metadata": {},
   "outputs": [],
   "source": [
    "customer_data = [(1,'manish','patna',\"30-05-2022\"),\n",
    "(2,'vikash','kolkata',\"12-03-2023\"),\n",
    "(3,'nikita','delhi',\"25-06-2023\"),\n",
    "(4,'rahul','ranchi',\"24-03-2023\"),\n",
    "(5,'mahesh','jaipur',\"22-03-2023\"),\n",
    "(6,'prantosh','kolkata',\"18-10-2022\"),\n",
    "(7,'raman','patna',\"30-12-2022\"),\n",
    "(8,'prakash','ranchi',\"24-02-2023\"),\n",
    "(9,'ragini','kolkata',\"03-03-2023\"),\n",
    "(10,'raushan','jaipur',\"05-02-2023\")]\n",
    "\n",
    "customer_schema=['customer_id','customer_name','address','date_of_joining']\n",
    "\n",
    "customer_df = spark.createDataFrame(data = customer_data, schema = customer_schema)"
   ]
  },
  {
   "cell_type": "code",
   "execution_count": 5,
   "metadata": {},
   "outputs": [
    {
     "name": "stdout",
     "output_type": "stream",
     "text": [
      "+-----------+-------------+-------+---------------+\n",
      "|customer_id|customer_name|address|date_of_joining|\n",
      "+-----------+-------------+-------+---------------+\n",
      "|          1|       manish|  patna|     30-05-2022|\n",
      "|          2|       vikash|kolkata|     12-03-2023|\n",
      "|          3|       nikita|  delhi|     25-06-2023|\n",
      "|          4|        rahul| ranchi|     24-03-2023|\n",
      "|          5|       mahesh| jaipur|     22-03-2023|\n",
      "|          6|     prantosh|kolkata|     18-10-2022|\n",
      "|          7|        raman|  patna|     30-12-2022|\n",
      "|          8|      prakash| ranchi|     24-02-2023|\n",
      "|          9|       ragini|kolkata|     03-03-2023|\n",
      "|         10|      raushan| jaipur|     05-02-2023|\n",
      "+-----------+-------------+-------+---------------+\n",
      "\n"
     ]
    }
   ],
   "source": [
    "customer_df.show()"
   ]
  },
  {
   "cell_type": "code",
   "execution_count": 6,
   "metadata": {},
   "outputs": [],
   "source": [
    "sales_data = [(1,22,10,\"01-06-2022\"),\n",
    "(1,27,5,\"03-02-2023\"),\n",
    "(2,5,3,\"01-06-2023\"),\n",
    "(5,22,1,\"22-03-2023\"),\n",
    "(7,22,4,\"03-02-2023\"),\n",
    "(9,5,6,\"03-03-2023\"),\n",
    "(2,1,12,\"15-06-2023\"),\n",
    "(1,56,2,\"25-06-2023\"),\n",
    "(5,12,5,\"15-04-2023\"),\n",
    "(11,12,76,\"12-03-2023\")]\n",
    "\n",
    "sales_schema=['customer_id','product_id','quantity','date_of_purchase']\n",
    "\n",
    "sales_df = spark.createDataFrame(data = sales_data, schema = sales_schema)"
   ]
  },
  {
   "cell_type": "code",
   "execution_count": 7,
   "metadata": {},
   "outputs": [
    {
     "name": "stdout",
     "output_type": "stream",
     "text": [
      "+-----------+----------+--------+----------------+\n",
      "|customer_id|product_id|quantity|date_of_purchase|\n",
      "+-----------+----------+--------+----------------+\n",
      "|          1|        22|      10|      01-06-2022|\n",
      "|          1|        27|       5|      03-02-2023|\n",
      "|          2|         5|       3|      01-06-2023|\n",
      "|          5|        22|       1|      22-03-2023|\n",
      "|          7|        22|       4|      03-02-2023|\n",
      "|          9|         5|       6|      03-03-2023|\n",
      "|          2|         1|      12|      15-06-2023|\n",
      "|          1|        56|       2|      25-06-2023|\n",
      "|          5|        12|       5|      15-04-2023|\n",
      "|         11|        12|      76|      12-03-2023|\n",
      "+-----------+----------+--------+----------------+\n",
      "\n"
     ]
    }
   ],
   "source": [
    "sales_df.show()"
   ]
  },
  {
   "cell_type": "code",
   "execution_count": 8,
   "metadata": {},
   "outputs": [],
   "source": [
    "product_data = [(1, 'fanta',20),\n",
    "(2, 'dew',22),\n",
    "(5, 'sprite',40),\n",
    "(7, 'redbull',100),\n",
    "(12,'mazza',45),\n",
    "(22,'coke',27),\n",
    "(25,'limca',21),\n",
    "(27,'pepsi',14),\n",
    "(56,'sting',10)]\n",
    "\n",
    "product_schema=['id','name','price']\n",
    "\n",
    "product_df = spark.createDataFrame(data = product_data, schema = product_schema)"
   ]
  },
  {
   "cell_type": "code",
   "execution_count": 9,
   "metadata": {},
   "outputs": [
    {
     "name": "stdout",
     "output_type": "stream",
     "text": [
      "+---+-------+-----+\n",
      "| id|   name|price|\n",
      "+---+-------+-----+\n",
      "|  1|  fanta|   20|\n",
      "|  2|    dew|   22|\n",
      "|  5| sprite|   40|\n",
      "|  7|redbull|  100|\n",
      "| 12|  mazza|   45|\n",
      "| 22|   coke|   27|\n",
      "| 25|  limca|   21|\n",
      "| 27|  pepsi|   14|\n",
      "| 56|  sting|   10|\n",
      "+---+-------+-----+\n",
      "\n"
     ]
    }
   ],
   "source": [
    "product_df.show()"
   ]
  },
  {
   "cell_type": "code",
   "execution_count": 10,
   "metadata": {},
   "outputs": [
    {
     "name": "stdout",
     "output_type": "stream",
     "text": [
      "+-----------+-------------+-------+---------------+-----------+----------+--------+----------------+\n",
      "|customer_id|customer_name|address|date_of_joining|customer_id|product_id|quantity|date_of_purchase|\n",
      "+-----------+-------------+-------+---------------+-----------+----------+--------+----------------+\n",
      "|          1|       manish|  patna|     30-05-2022|          1|        22|      10|      01-06-2022|\n",
      "|          1|       manish|  patna|     30-05-2022|          1|        27|       5|      03-02-2023|\n",
      "|          1|       manish|  patna|     30-05-2022|          1|        56|       2|      25-06-2023|\n",
      "|          2|       vikash|kolkata|     12-03-2023|          2|         5|       3|      01-06-2023|\n",
      "|          2|       vikash|kolkata|     12-03-2023|          2|         1|      12|      15-06-2023|\n",
      "|          5|       mahesh| jaipur|     22-03-2023|          5|        22|       1|      22-03-2023|\n",
      "|          5|       mahesh| jaipur|     22-03-2023|          5|        12|       5|      15-04-2023|\n",
      "|          7|        raman|  patna|     30-12-2022|          7|        22|       4|      03-02-2023|\n",
      "|          9|       ragini|kolkata|     03-03-2023|          9|         5|       6|      03-03-2023|\n",
      "+-----------+-------------+-------+---------------+-----------+----------+--------+----------------+\n",
      "\n"
     ]
    }
   ],
   "source": [
    "customer_df.join(sales_df, sales_df[\"customer_id\"] == customer_df[\"customer_id\"], \"inner\").show()"
   ]
  },
  {
   "cell_type": "code",
   "execution_count": 14,
   "metadata": {},
   "outputs": [
    {
     "name": "stdout",
     "output_type": "stream",
     "text": [
      "+-----------+-------------+----------+---------------+----------------+\n",
      "|customer_id|customer_name|product_id|date_of_joining|date_of_purchase|\n",
      "+-----------+-------------+----------+---------------+----------------+\n",
      "|          1|       manish|        22|     30-05-2022|      01-06-2022|\n",
      "|          1|       manish|        27|     30-05-2022|      03-02-2023|\n",
      "|          1|       manish|        56|     30-05-2022|      25-06-2023|\n",
      "|          2|       vikash|         5|     12-03-2023|      01-06-2023|\n",
      "|          2|       vikash|         1|     12-03-2023|      15-06-2023|\n",
      "|          5|       mahesh|        22|     22-03-2023|      22-03-2023|\n",
      "|          5|       mahesh|        12|     22-03-2023|      15-04-2023|\n",
      "|          7|        raman|        22|     30-12-2022|      03-02-2023|\n",
      "|          9|       ragini|         5|     03-03-2023|      03-03-2023|\n",
      "+-----------+-------------+----------+---------------+----------------+\n",
      "\n"
     ]
    }
   ],
   "source": [
    "customer_df.join(sales_df, sales_df[\"customer_id\"] == customer_df[\"customer_id\"], \"inner\")\\\n",
    "            .select(customer_df[\"customer_id\"], customer_df[\"customer_name\"], sales_df[\"product_id\"], customer_df[\"date_of_joining\"], sales_df[\"date_of_purchase\"])\\\n",
    "            .show()"
   ]
  },
  {
   "cell_type": "code",
   "execution_count": 16,
   "metadata": {},
   "outputs": [
    {
     "name": "stdout",
     "output_type": "stream",
     "text": [
      "+----------+\n",
      "|product_id|\n",
      "+----------+\n",
      "|        22|\n",
      "|        27|\n",
      "|        56|\n",
      "|         5|\n",
      "|         1|\n",
      "|        12|\n",
      "+----------+\n",
      "\n"
     ]
    }
   ],
   "source": [
    "customer_df.join(sales_df, sales_df[\"customer_id\"] == customer_df[\"customer_id\"], \"inner\")\\\n",
    "            .select(sales_df[\"product_id\"]).distinct().show()"
   ]
  },
  {
   "cell_type": "code",
   "execution_count": 17,
   "metadata": {},
   "outputs": [
    {
     "name": "stdout",
     "output_type": "stream",
     "text": [
      "+-----------+-------------+----------+---------------+----------------+\n",
      "|customer_id|customer_name|product_id|date_of_joining|date_of_purchase|\n",
      "+-----------+-------------+----------+---------------+----------------+\n",
      "|          1|       manish|        56|     30-05-2022|      25-06-2023|\n",
      "|          1|       manish|        27|     30-05-2022|      03-02-2023|\n",
      "|          1|       manish|        22|     30-05-2022|      01-06-2022|\n",
      "|          2|       vikash|         1|     12-03-2023|      15-06-2023|\n",
      "|          2|       vikash|         5|     12-03-2023|      01-06-2023|\n",
      "|          3|       nikita|      null|     25-06-2023|            null|\n",
      "|          4|        rahul|      null|     24-03-2023|            null|\n",
      "|          6|     prantosh|      null|     18-10-2022|            null|\n",
      "|          5|       mahesh|        12|     22-03-2023|      15-04-2023|\n",
      "|          5|       mahesh|        22|     22-03-2023|      22-03-2023|\n",
      "|          7|        raman|        22|     30-12-2022|      03-02-2023|\n",
      "|          9|       ragini|         5|     03-03-2023|      03-03-2023|\n",
      "|         10|      raushan|      null|     05-02-2023|            null|\n",
      "|          8|      prakash|      null|     24-02-2023|            null|\n",
      "+-----------+-------------+----------+---------------+----------------+\n",
      "\n"
     ]
    }
   ],
   "source": [
    "customer_df.join(sales_df, sales_df[\"customer_id\"] == customer_df[\"customer_id\"], \"left\")\\\n",
    "            .select(customer_df[\"customer_id\"], customer_df[\"customer_name\"], sales_df[\"product_id\"], customer_df[\"date_of_joining\"], sales_df[\"date_of_purchase\"])\\\n",
    "            .show()"
   ]
  },
  {
   "cell_type": "code",
   "execution_count": 18,
   "metadata": {},
   "outputs": [
    {
     "name": "stdout",
     "output_type": "stream",
     "text": [
      "+-----------+-------------+---------------+\n",
      "|customer_id|customer_name|date_of_joining|\n",
      "+-----------+-------------+---------------+\n",
      "|          3|       nikita|     25-06-2023|\n",
      "|          4|        rahul|     24-03-2023|\n",
      "|          6|     prantosh|     18-10-2022|\n",
      "|          8|      prakash|     24-02-2023|\n",
      "|         10|      raushan|     05-02-2023|\n",
      "+-----------+-------------+---------------+\n",
      "\n"
     ]
    }
   ],
   "source": [
    "# customer who has registered but never purchased the product\n",
    "\n",
    "customer_df.join(sales_df, sales_df[\"customer_id\"] == customer_df[\"customer_id\"], \"left\")\\\n",
    "            .select(customer_df[\"customer_id\"], customer_df[\"customer_name\"], \n",
    "                   customer_df[\"date_of_joining\"])\\\n",
    "            .distinct()\\\n",
    "            .filter(sales_df[\"date_of_purchase\"].isNull())\\\n",
    "            .show()"
   ]
  },
  {
   "cell_type": "code",
   "execution_count": 19,
   "metadata": {},
   "outputs": [
    {
     "name": "stdout",
     "output_type": "stream",
     "text": [
      "+-----------+-------------+---------------+----------+\n",
      "|customer_id|customer_name|date_of_joining|product_id|\n",
      "+-----------+-------------+---------------+----------+\n",
      "|          1|       manish|     30-05-2022|        22|\n",
      "|          1|       manish|     30-05-2022|        27|\n",
      "|          1|       manish|     30-05-2022|        56|\n",
      "|          2|       vikash|     12-03-2023|         5|\n",
      "|          2|       vikash|     12-03-2023|         1|\n",
      "|          3|       nikita|     25-06-2023|      null|\n",
      "|          4|        rahul|     24-03-2023|      null|\n",
      "|          5|       mahesh|     22-03-2023|        22|\n",
      "|          5|       mahesh|     22-03-2023|        12|\n",
      "|          6|     prantosh|     18-10-2022|      null|\n",
      "|          7|        raman|     30-12-2022|        22|\n",
      "|          8|      prakash|     24-02-2023|      null|\n",
      "|          9|       ragini|     03-03-2023|         5|\n",
      "|         10|      raushan|     05-02-2023|      null|\n",
      "|       null|         null|           null|        12|\n",
      "+-----------+-------------+---------------+----------+\n",
      "\n"
     ]
    }
   ],
   "source": [
    "customer_df.join(sales_df, sales_df[\"customer_id\"] == customer_df[\"customer_id\"], \"outer\")\\\n",
    "            .select(customer_df[\"customer_id\"], customer_df[\"customer_name\"], \n",
    "                   customer_df[\"date_of_joining\"], sales_df[\"product_id\"])\\\n",
    "            .show()"
   ]
  },
  {
   "cell_type": "code",
   "execution_count": 22,
   "metadata": {},
   "outputs": [
    {
     "name": "stdout",
     "output_type": "stream",
     "text": [
      "+-----------+-------------+---------------+----------+\n",
      "|customer_id|customer_name|date_of_joining|product_id|\n",
      "+-----------+-------------+---------------+----------+\n",
      "|          1|       manish|     30-05-2022|        22|\n",
      "|          1|       manish|     30-05-2022|        27|\n",
      "|          1|       manish|     30-05-2022|        56|\n",
      "|          2|       vikash|     12-03-2023|         5|\n",
      "|          2|       vikash|     12-03-2023|         1|\n",
      "|          5|       mahesh|     22-03-2023|        22|\n",
      "|          5|       mahesh|     22-03-2023|        12|\n",
      "|          7|        raman|     30-12-2022|        22|\n",
      "|          9|       ragini|     03-03-2023|         5|\n",
      "+-----------+-------------+---------------+----------+\n",
      "\n"
     ]
    }
   ],
   "source": [
    "# left anti-join\n",
    "customer_df.join(sales_df, sales_df[\"customer_id\"] == customer_df[\"customer_id\"], \"left\")\\\n",
    "            .select(customer_df[\"customer_id\"], customer_df[\"customer_name\"], \n",
    "                   customer_df[\"date_of_joining\"], sales_df[\"product_id\"])\\\n",
    "            .where(sales_df[\"product_id\"].isNotNull())\\\n",
    "            .show()"
   ]
  },
  {
   "cell_type": "code",
   "execution_count": 29,
   "metadata": {},
   "outputs": [
    {
     "name": "stdout",
     "output_type": "stream",
     "text": [
      "+-----------+-------------+-------+---------------+\n",
      "|customer_id|customer_name|address|date_of_joining|\n",
      "+-----------+-------------+-------+---------------+\n",
      "|          1|       manish|  patna|     30-05-2022|\n",
      "|          2|       vikash|kolkata|     12-03-2023|\n",
      "|          5|       mahesh| jaipur|     22-03-2023|\n",
      "|          7|        raman|  patna|     30-12-2022|\n",
      "|          9|       ragini|kolkata|     03-03-2023|\n",
      "+-----------+-------------+-------+---------------+\n",
      "\n"
     ]
    }
   ],
   "source": [
    "# left semi join -- ignores all the data in the right table and gives output for the matching records of both the tables\n",
    "\n",
    "customer_df.join(sales_df, sales_df[\"customer_id\"] == customer_df[\"customer_id\"], \"leftsemi\")\\\n",
    "            .select(\"*\")\\\n",
    "            .show()"
   ]
  },
  {
   "cell_type": "code",
   "execution_count": 30,
   "metadata": {},
   "outputs": [
    {
     "name": "stdout",
     "output_type": "stream",
     "text": [
      "+-----------+-------------+-------+---------------+-----------+----------+--------+----------------+\n",
      "|customer_id|customer_name|address|date_of_joining|customer_id|product_id|quantity|date_of_purchase|\n",
      "+-----------+-------------+-------+---------------+-----------+----------+--------+----------------+\n",
      "|          1|       manish|  patna|     30-05-2022|          1|        22|      10|      01-06-2022|\n",
      "|          1|       manish|  patna|     30-05-2022|          1|        27|       5|      03-02-2023|\n",
      "|          1|       manish|  patna|     30-05-2022|          1|        56|       2|      25-06-2023|\n",
      "|          2|       vikash|kolkata|     12-03-2023|          2|         5|       3|      01-06-2023|\n",
      "|          2|       vikash|kolkata|     12-03-2023|          2|         1|      12|      15-06-2023|\n",
      "|          5|       mahesh| jaipur|     22-03-2023|          5|        22|       1|      22-03-2023|\n",
      "|          5|       mahesh| jaipur|     22-03-2023|          5|        12|       5|      15-04-2023|\n",
      "|          7|        raman|  patna|     30-12-2022|          7|        22|       4|      03-02-2023|\n",
      "|          9|       ragini|kolkata|     03-03-2023|          9|         5|       6|      03-03-2023|\n",
      "+-----------+-------------+-------+---------------+-----------+----------+--------+----------------+\n",
      "\n"
     ]
    }
   ],
   "source": [
    "# difference is it'll output all the records in INNER JOIN but not in LEFTSEMI JOIN\n",
    "customer_df.join(sales_df, sales_df[\"customer_id\"] == customer_df[\"customer_id\"], \"inner\")\\\n",
    "            .select(\"*\")\\\n",
    "            .show()"
   ]
  },
  {
   "cell_type": "code",
   "execution_count": 34,
   "metadata": {},
   "outputs": [
    {
     "name": "stdout",
     "output_type": "stream",
     "text": [
      "+-----------+-------------+-------+---------------+-----------+----------+--------+----------------+\n",
      "|customer_id|customer_name|address|date_of_joining|customer_id|product_id|quantity|date_of_purchase|\n",
      "+-----------+-------------+-------+---------------+-----------+----------+--------+----------------+\n",
      "|          1|       manish|  patna|     30-05-2022|          1|        22|      10|      01-06-2022|\n",
      "|          1|       manish|  patna|     30-05-2022|          1|        27|       5|      03-02-2023|\n",
      "|          1|       manish|  patna|     30-05-2022|          1|        56|       2|      25-06-2023|\n",
      "|          2|       vikash|kolkata|     12-03-2023|          2|         5|       3|      01-06-2023|\n",
      "|          2|       vikash|kolkata|     12-03-2023|          2|         1|      12|      15-06-2023|\n",
      "|          3|       nikita|  delhi|     25-06-2023|       null|      null|    null|            null|\n",
      "|          4|        rahul| ranchi|     24-03-2023|       null|      null|    null|            null|\n",
      "|          5|       mahesh| jaipur|     22-03-2023|          5|        22|       1|      22-03-2023|\n",
      "|          5|       mahesh| jaipur|     22-03-2023|          5|        12|       5|      15-04-2023|\n",
      "|          6|     prantosh|kolkata|     18-10-2022|       null|      null|    null|            null|\n",
      "|          7|        raman|  patna|     30-12-2022|          7|        22|       4|      03-02-2023|\n",
      "|          8|      prakash| ranchi|     24-02-2023|       null|      null|    null|            null|\n",
      "|          9|       ragini|kolkata|     03-03-2023|          9|         5|       6|      03-03-2023|\n",
      "|         10|      raushan| jaipur|     05-02-2023|       null|      null|    null|            null|\n",
      "|       null|         null|   null|           null|         11|        12|      76|      12-03-2023|\n",
      "+-----------+-------------+-------+---------------+-----------+----------+--------+----------------+\n",
      "\n"
     ]
    }
   ],
   "source": [
    "customer_df.join(sales_df, sales_df[\"customer_id\"] == customer_df[\"customer_id\"], \"outer\")\\\n",
    "            .select(\"*\")\\\n",
    "            .show()"
   ]
  },
  {
   "cell_type": "code",
   "execution_count": 31,
   "metadata": {},
   "outputs": [
    {
     "name": "stdout",
     "output_type": "stream",
     "text": [
      "+-----------+-------------+-------+---------------+\n",
      "|customer_id|customer_name|address|date_of_joining|\n",
      "+-----------+-------------+-------+---------------+\n",
      "|          3|       nikita|  delhi|     25-06-2023|\n",
      "|          4|        rahul| ranchi|     24-03-2023|\n",
      "|          6|     prantosh|kolkata|     18-10-2022|\n",
      "|         10|      raushan| jaipur|     05-02-2023|\n",
      "|          8|      prakash| ranchi|     24-02-2023|\n",
      "+-----------+-------------+-------+---------------+\n",
      "\n"
     ]
    }
   ],
   "source": [
    "# left anti-join -- records which are not present in right table but in left table\n",
    "customer_df.join(sales_df, sales_df[\"customer_id\"] == customer_df[\"customer_id\"], \"leftanti\")\\\n",
    "            .select(\"*\")\\\n",
    "            .show()"
   ]
  },
  {
   "cell_type": "code",
   "execution_count": 35,
   "metadata": {},
   "outputs": [
    {
     "name": "stdout",
     "output_type": "stream",
     "text": [
      "+-----------+-------------+-------+---------------+-----------+----------+--------+----------------+\n",
      "|customer_id|customer_name|address|date_of_joining|customer_id|product_id|quantity|date_of_purchase|\n",
      "+-----------+-------------+-------+---------------+-----------+----------+--------+----------------+\n",
      "|          1|       manish|  patna|     30-05-2022|          1|        22|      10|      01-06-2022|\n",
      "|          1|       manish|  patna|     30-05-2022|          1|        27|       5|      03-02-2023|\n",
      "|          2|       vikash|kolkata|     12-03-2023|          1|        22|      10|      01-06-2022|\n",
      "|          2|       vikash|kolkata|     12-03-2023|          1|        27|       5|      03-02-2023|\n",
      "|          1|       manish|  patna|     30-05-2022|          2|         5|       3|      01-06-2023|\n",
      "|          1|       manish|  patna|     30-05-2022|          5|        22|       1|      22-03-2023|\n",
      "|          2|       vikash|kolkata|     12-03-2023|          2|         5|       3|      01-06-2023|\n",
      "|          2|       vikash|kolkata|     12-03-2023|          5|        22|       1|      22-03-2023|\n",
      "|          1|       manish|  patna|     30-05-2022|          7|        22|       4|      03-02-2023|\n",
      "|          1|       manish|  patna|     30-05-2022|          9|         5|       6|      03-03-2023|\n",
      "|          2|       vikash|kolkata|     12-03-2023|          7|        22|       4|      03-02-2023|\n",
      "|          2|       vikash|kolkata|     12-03-2023|          9|         5|       6|      03-03-2023|\n",
      "|          1|       manish|  patna|     30-05-2022|          2|         1|      12|      15-06-2023|\n",
      "|          1|       manish|  patna|     30-05-2022|          1|        56|       2|      25-06-2023|\n",
      "|          1|       manish|  patna|     30-05-2022|          5|        12|       5|      15-04-2023|\n",
      "|          1|       manish|  patna|     30-05-2022|         11|        12|      76|      12-03-2023|\n",
      "|          2|       vikash|kolkata|     12-03-2023|          2|         1|      12|      15-06-2023|\n",
      "|          2|       vikash|kolkata|     12-03-2023|          1|        56|       2|      25-06-2023|\n",
      "|          2|       vikash|kolkata|     12-03-2023|          5|        12|       5|      15-04-2023|\n",
      "|          2|       vikash|kolkata|     12-03-2023|         11|        12|      76|      12-03-2023|\n",
      "+-----------+-------------+-------+---------------+-----------+----------+--------+----------------+\n",
      "only showing top 20 rows\n",
      "\n"
     ]
    }
   ],
   "source": [
    "## Cross- join\n",
    "customer_df.crossJoin(sales_df).show()"
   ]
  },
  {
   "cell_type": "code",
   "execution_count": 36,
   "metadata": {},
   "outputs": [
    {
     "data": {
      "text/plain": [
       "10"
      ]
     },
     "execution_count": 36,
     "metadata": {},
     "output_type": "execute_result"
    }
   ],
   "source": [
    "customer_df.count()"
   ]
  },
  {
   "cell_type": "code",
   "execution_count": 37,
   "metadata": {},
   "outputs": [
    {
     "data": {
      "text/plain": [
       "10"
      ]
     },
     "execution_count": 37,
     "metadata": {},
     "output_type": "execute_result"
    }
   ],
   "source": [
    "sales_df.count()"
   ]
  },
  {
   "cell_type": "code",
   "execution_count": 38,
   "metadata": {},
   "outputs": [
    {
     "data": {
      "text/plain": [
       "100"
      ]
     },
     "execution_count": 38,
     "metadata": {},
     "output_type": "execute_result"
    }
   ],
   "source": [
    "customer_df.crossJoin(sales_df).count()"
   ]
  },
  {
   "cell_type": "code",
   "execution_count": 42,
   "metadata": {},
   "outputs": [],
   "source": [
    "p_data = [[1, 'Wang', 'Allen'], [2, 'Alice', 'Bob']]\n",
    "p_columns=['personId', 'firstName', 'lastName']\n",
    "\n",
    "person_df = spark.createDataFrame(data = p_data, schema=p_columns)\n",
    " \n"
   ]
  },
  {
   "cell_type": "code",
   "execution_count": 43,
   "metadata": {},
   "outputs": [
    {
     "name": "stdout",
     "output_type": "stream",
     "text": [
      "+--------+---------+--------+\n",
      "|personId|firstName|lastName|\n",
      "+--------+---------+--------+\n",
      "|       1|     Wang|   Allen|\n",
      "|       2|    Alice|     Bob|\n",
      "+--------+---------+--------+\n",
      "\n"
     ]
    }
   ],
   "source": [
    "person_df.show()"
   ]
  },
  {
   "cell_type": "code",
   "execution_count": 44,
   "metadata": {},
   "outputs": [],
   "source": [
    "a_data = ([1, 2, 'New York City', 'New York'], [2, 3, 'Leetcode', 'California'])\n",
    "a_columns=['addressId', 'personId', 'city', 'state']\n",
    "\n",
    "address_df = spark.createDataFrame(data=a_data, schema=a_columns)"
   ]
  },
  {
   "cell_type": "code",
   "execution_count": 45,
   "metadata": {},
   "outputs": [
    {
     "name": "stdout",
     "output_type": "stream",
     "text": [
      "+---------+--------+-------------+----------+\n",
      "|addressId|personId|         city|     state|\n",
      "+---------+--------+-------------+----------+\n",
      "|        1|       2|New York City|  New York|\n",
      "|        2|       3|     Leetcode|California|\n",
      "+---------+--------+-------------+----------+\n",
      "\n"
     ]
    }
   ],
   "source": [
    "address_df.show()"
   ]
  },
  {
   "cell_type": "markdown",
   "metadata": {},
   "source": [
    "Write a solution to report the first name, last name, city, and state of each person in the Person table. If the address of a personId is not present in the Address table, report null instead.\n",
    "\n",
    "Return the result table in any order."
   ]
  },
  {
   "cell_type": "code",
   "execution_count": 46,
   "metadata": {},
   "outputs": [
    {
     "name": "stdout",
     "output_type": "stream",
     "text": [
      "+---------+--------+-------------+--------+\n",
      "|firstName|lastName|         city|   state|\n",
      "+---------+--------+-------------+--------+\n",
      "|     Wang|   Allen|         null|    null|\n",
      "|    Alice|     Bob|New York City|New York|\n",
      "+---------+--------+-------------+--------+\n",
      "\n"
     ]
    }
   ],
   "source": [
    "person_df.join(address_df, person_df[\"personId\"] == address_df[\"personId\"], \"left\")\\\n",
    "        .select(\"firstName\", \"lastName\", \"city\", \"state\")\\\n",
    "        .show()"
   ]
  },
  {
   "cell_type": "code",
   "execution_count": null,
   "metadata": {},
   "outputs": [],
   "source": []
  },
  {
   "cell_type": "code",
   "execution_count": null,
   "metadata": {},
   "outputs": [],
   "source": []
  },
  {
   "cell_type": "code",
   "execution_count": null,
   "metadata": {},
   "outputs": [],
   "source": []
  }
 ],
 "metadata": {
  "hide_input": false,
  "kernelspec": {
   "display_name": "Python 3",
   "language": "python",
   "name": "python3"
  },
  "language_info": {
   "codemirror_mode": {
    "name": "ipython",
    "version": 3
   },
   "file_extension": ".py",
   "mimetype": "text/x-python",
   "name": "python",
   "nbconvert_exporter": "python",
   "pygments_lexer": "ipython3",
   "version": "3.8.5"
  }
 },
 "nbformat": 4,
 "nbformat_minor": 4
}
