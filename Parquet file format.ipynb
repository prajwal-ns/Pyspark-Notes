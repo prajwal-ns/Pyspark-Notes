{
 "cells": [
  {
   "cell_type": "markdown",
   "metadata": {},
   "source": [
    "## Parquet file format\n",
    "\n",
    "The file layout of Parquet plays a crucial role in its efficiency and performance. It's structured in a way that optimizes storage and retrieval of data, especially for analytical processing.\n",
    "\n",
    "### Parquet File Structure:\n",
    "\n",
    "1. **Row Groups:**\n",
    "    - Parquet files are divided into row groups, which are logical divisions of data within the file.\n",
    "    - Each row group contains a subset of rows from the dataset. The size of a row group can be configured.\n",
    "    - Row groups enable parallelism and efficient processing, allowing readers to work on different row groups concurrently.\n",
    "2. **Column Chunk:**\n",
    "    - Within each row group, columns are divided into column chunks.\n",
    "    - A column chunk stores data for a specific column within a row group.\n",
    "    - Column chunks allow for the efficient access of specific columns without reading unnecessary data, supporting column-wise operations.\n",
    "3. **Metadata:**\n",
    "    - Parquet files contain metadata that describes the schema and statistics about the data stored within.\n",
    "    - Metadata includes information about data types, compression codecs used, encoding methods, and min/max statistics per column chunk.\n",
    "    - This metadata is stored in the footer of the Parquet file and helps readers to understand the file's structure without needing to read the entire file.\n",
    "4. **Page Structure:**\n",
    "    - Data within column chunks is divided into pages for efficient storage and retrieval.\n",
    "    - Pages can be of different types: data pages, dictionary pages (for dictionary encoding), and index pages.\n",
    "    - Data pages store the actual values for a column, while dictionary pages store the unique values for dictionary encoding.\n",
    "    \n",
    "### Logical Representation:\n",
    "\n",
    "The logical structure of a Parquet file can be represented hierarchically:\n",
    "\n",
    "- **File → Row Group(s) → Column Chunk(s) → Page(s)**\n",
    "    - File: Contains one or more row groups.\n",
    "    - Row Group: Contains column chunks.\n",
    "    - Column Chunk: Contains pages of a specific column's data.\n",
    "    - Page: Stores actual values, metadata, or dictionary-encoded values."
   ]
  },
  {
   "cell_type": "code",
   "execution_count": 3,
   "metadata": {
    "scrolled": true
   },
   "outputs": [
    {
     "name": "stdout",
     "output_type": "stream",
     "text": [
      "Collecting pyarrow\n",
      "  Downloading pyarrow-14.0.2-cp38-cp38-win_amd64.whl (24.6 MB)\n",
      "Requirement already satisfied: numpy>=1.16.6 in c:\\anaconda\\lib\\site-packages (from pyarrow) (1.19.2)\n",
      "Installing collected packages: pyarrow\n",
      "Successfully installed pyarrow-14.0.2\n"
     ]
    }
   ],
   "source": [
    "!pip install pyarrow\n",
    "import pyarrow as pa\n",
    "import pyarrow.parquet as pq"
   ]
  },
  {
   "cell_type": "code",
   "execution_count": 5,
   "metadata": {},
   "outputs": [],
   "source": [
    "parquet_file = pq.ParquetFile(r'C:\\Users\\HP\\Pyspark\\parquet\\part-r-00000-1a9822ba-b8fb-4d8e-844a-ea30d0801b9e.gz.parquet')"
   ]
  },
  {
   "cell_type": "code",
   "execution_count": 11,
   "metadata": {},
   "outputs": [
    {
     "data": {
      "text/plain": [
       "<pyarrow._parquet.FileMetaData object at 0x000001C7ADD65BD0>\n",
       "  created_by: parquet-mr (build 32c46643845ea8a705c35d4ec8fc654cc8ff816d)\n",
       "  num_columns: 3\n",
       "  num_rows: 255\n",
       "  num_row_groups: 1\n",
       "  format_version: 1.0\n",
       "  serialized_size: 658"
      ]
     },
     "execution_count": 11,
     "metadata": {},
     "output_type": "execute_result"
    }
   ],
   "source": [
    "## accessing metadata\n",
    "parquet_file.metadata"
   ]
  },
  {
   "cell_type": "code",
   "execution_count": 8,
   "metadata": {},
   "outputs": [
    {
     "data": {
      "text/plain": [
       "<pyarrow._parquet.RowGroupMetaData object at 0x000001C7AF437630>\n",
       "  num_columns: 3\n",
       "  num_rows: 255\n",
       "  total_byte_size: 5642"
      ]
     },
     "execution_count": 8,
     "metadata": {},
     "output_type": "execute_result"
    }
   ],
   "source": [
    "# accessing row group\n",
    "parquet_file.metadata.row_group(0)  "
   ]
  },
  {
   "cell_type": "code",
   "execution_count": 9,
   "metadata": {},
   "outputs": [
    {
     "data": {
      "text/plain": [
       "<pyarrow._parquet.ColumnChunkMetaData object at 0x000001C7AF437D60>\n",
       "  file_offset: 4\n",
       "  file_path: \n",
       "  physical_type: BYTE_ARRAY\n",
       "  num_values: 255\n",
       "  path_in_schema: DEST_COUNTRY_NAME\n",
       "  is_stats_set: True\n",
       "  statistics:\n",
       "    <pyarrow._parquet.Statistics object at 0x000001C7AF437E00>\n",
       "      has_min_max: True\n",
       "      min: Afghanistan\n",
       "      max: Vietnam\n",
       "      null_count: 0\n",
       "      distinct_count: None\n",
       "      num_values: 255\n",
       "      physical_type: BYTE_ARRAY\n",
       "      logical_type: String\n",
       "      converted_type (legacy): UTF8\n",
       "  compression: GZIP\n",
       "  encodings: ('PLAIN_DICTIONARY', 'RLE', 'BIT_PACKED')\n",
       "  has_dictionary_page: False\n",
       "  dictionary_page_offset: None\n",
       "  data_page_offset: 4\n",
       "  total_compressed_size: 1242\n",
       "  total_uncompressed_size: 1974"
      ]
     },
     "execution_count": 9,
     "metadata": {},
     "output_type": "execute_result"
    }
   ],
   "source": [
    "# in the row group checking first column\n",
    "parquet_file.metadata.row_group(0).column(0)"
   ]
  },
  {
   "cell_type": "code",
   "execution_count": 10,
   "metadata": {},
   "outputs": [
    {
     "data": {
      "text/plain": [
       "<pyarrow._parquet.Statistics object at 0x000001C7AF447180>\n",
       "  has_min_max: True\n",
       "  min: Afghanistan\n",
       "  max: Vietnam\n",
       "  null_count: 0\n",
       "  distinct_count: None\n",
       "  num_values: 255\n",
       "  physical_type: BYTE_ARRAY\n",
       "  logical_type: String\n",
       "  converted_type (legacy): UTF8"
      ]
     },
     "execution_count": 10,
     "metadata": {},
     "output_type": "execute_result"
    }
   ],
   "source": [
    "# stats which contains min, max, nulls etc\n",
    "parquet_file.metadata.row_group(0).column(0).statistics "
   ]
  },
  {
   "cell_type": "code",
   "execution_count": null,
   "metadata": {},
   "outputs": [],
   "source": []
  }
 ],
 "metadata": {
  "hide_input": false,
  "kernelspec": {
   "display_name": "Python 3",
   "language": "python",
   "name": "python3"
  },
  "language_info": {
   "codemirror_mode": {
    "name": "ipython",
    "version": 3
   },
   "file_extension": ".py",
   "mimetype": "text/x-python",
   "name": "python",
   "nbconvert_exporter": "python",
   "pygments_lexer": "ipython3",
   "version": "3.8.5"
  }
 },
 "nbformat": 4,
 "nbformat_minor": 4
}
