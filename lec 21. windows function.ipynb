{
 "cells": [
  {
   "cell_type": "code",
   "execution_count": 1,
   "metadata": {},
   "outputs": [],
   "source": [
    "\n",
    "import os\n",
    "\n",
    "\n",
    "import findspark\n",
    "findspark.init()\n",
    "\n",
    "import pyspark\n",
    "from pyspark.sql import SparkSession\n",
    "from pyspark.sql import *\n",
    "from pyspark.sql.functions import *\n",
    "from pyspark.sql.types import *\n",
    "import sys\n",
    "\n",
    "os.environ['PYSPARK_PYTHON'] = sys.executable\n",
    "os.environ['PYSPARK_DRIVER_PYTHON'] = sys.executable"
   ]
  },
  {
   "cell_type": "code",
   "execution_count": 2,
   "metadata": {},
   "outputs": [
    {
     "name": "stdout",
     "output_type": "stream",
     "text": [
      "<pyspark.sql.session.SparkSession object at 0x000001919949D700>\n"
     ]
    }
   ],
   "source": [
    "spark = SparkSession.builder.master(\"local[*]\") \\\n",
    "    .appName(\"testing\") \\\n",
    "    .config(\"spark.driver.extraClassPath\", \"C:\\\\my_sql_jar\\\\mysql-connector-java-8.0.26.jar\") \\\n",
    "    .getOrCreate()\n",
    "print(spark)"
   ]
  },
  {
   "cell_type": "code",
   "execution_count": 3,
   "metadata": {},
   "outputs": [],
   "source": [
    "emp_data = [(1,'manish',50000,'IT','m'),\n",
    "(2,'vikash',60000,'sales','m'),\n",
    "(3,'raushan',70000,'marketing','m'),\n",
    "(4,'mukesh',80000,'IT','m'),\n",
    "(5,'priti',90000,'sales','f'),\n",
    "(6,'nikita',45000,'marketing','f'),\n",
    "(7,'ragini',55000,'marketing','f'),\n",
    "(8,'rashi',100000,'IT','f'),\n",
    "(9,'aditya',65000,'IT','m'),\n",
    "(10,'rahul',50000,'marketing','m'),\n",
    "(11,'rakhi',50000,'IT','f'),\n",
    "(12,'akhilesh',90000,'sales','m')]\n",
    "\n",
    "emp_schema = ['id', 'name', 'sal', 'dept', 'gender']\n",
    "\n",
    "emp_df = spark.createDataFrame(data = emp_data, schema=emp_schema)"
   ]
  },
  {
   "cell_type": "code",
   "execution_count": 4,
   "metadata": {},
   "outputs": [
    {
     "name": "stdout",
     "output_type": "stream",
     "text": [
      "+---+--------+------+---------+------+\n",
      "| id|    name|   sal|     dept|gender|\n",
      "+---+--------+------+---------+------+\n",
      "|  1|  manish| 50000|       IT|     m|\n",
      "|  2|  vikash| 60000|    sales|     m|\n",
      "|  3| raushan| 70000|marketing|     m|\n",
      "|  4|  mukesh| 80000|       IT|     m|\n",
      "|  5|   priti| 90000|    sales|     f|\n",
      "|  6|  nikita| 45000|marketing|     f|\n",
      "|  7|  ragini| 55000|marketing|     f|\n",
      "|  8|   rashi|100000|       IT|     f|\n",
      "|  9|  aditya| 65000|       IT|     m|\n",
      "| 10|   rahul| 50000|marketing|     m|\n",
      "| 11|   rakhi| 50000|       IT|     f|\n",
      "| 12|akhilesh| 90000|    sales|     m|\n",
      "+---+--------+------+---------+------+\n",
      "\n"
     ]
    }
   ],
   "source": [
    "emp_df.show()"
   ]
  },
  {
   "cell_type": "code",
   "execution_count": 7,
   "metadata": {},
   "outputs": [
    {
     "name": "stdout",
     "output_type": "stream",
     "text": [
      "+---------+--------+\n",
      "|     dept|sum(sal)|\n",
      "+---------+--------+\n",
      "|marketing|  220000|\n",
      "|    sales|  240000|\n",
      "|       IT|  345000|\n",
      "+---------+--------+\n",
      "\n"
     ]
    }
   ],
   "source": [
    "emp_df.groupBy(\"dept\").agg(sum(col(\"sal\"))).show()"
   ]
  },
  {
   "cell_type": "code",
   "execution_count": 8,
   "metadata": {},
   "outputs": [
    {
     "name": "stdout",
     "output_type": "stream",
     "text": [
      "+---+--------+------+---------+------+---+\n",
      "| id|    name|   sal|     dept|gender| rn|\n",
      "+---+--------+------+---------+------+---+\n",
      "|  1|  manish| 50000|       IT|     m|  1|\n",
      "| 11|   rakhi| 50000|       IT|     f|  2|\n",
      "|  9|  aditya| 65000|       IT|     m|  3|\n",
      "|  4|  mukesh| 80000|       IT|     m|  4|\n",
      "|  8|   rashi|100000|       IT|     f|  5|\n",
      "|  6|  nikita| 45000|marketing|     f|  1|\n",
      "| 10|   rahul| 50000|marketing|     m|  2|\n",
      "|  7|  ragini| 55000|marketing|     f|  3|\n",
      "|  3| raushan| 70000|marketing|     m|  4|\n",
      "|  2|  vikash| 60000|    sales|     m|  1|\n",
      "|  5|   priti| 90000|    sales|     f|  2|\n",
      "| 12|akhilesh| 90000|    sales|     m|  3|\n",
      "+---+--------+------+---------+------+---+\n",
      "\n"
     ]
    }
   ],
   "source": [
    "# window function - row_number()\n",
    "\n",
    "window = Window.partitionBy(\"dept\").orderBy(\"sal\")\n",
    "\n",
    "emp_df.withColumn(\"rn\", row_number().over(window)).show()"
   ]
  },
  {
   "cell_type": "code",
   "execution_count": 16,
   "metadata": {},
   "outputs": [
    {
     "data": {
      "text/plain": [
       "StructType([StructField('id', LongType(), True), StructField('name', StringType(), True), StructField('sal', LongType(), True), StructField('dept', StringType(), True), StructField('gender', StringType(), True)])"
      ]
     },
     "execution_count": 16,
     "metadata": {},
     "output_type": "execute_result"
    }
   ],
   "source": [
    "emp_df.schema"
   ]
  },
  {
   "cell_type": "code",
   "execution_count": 19,
   "metadata": {},
   "outputs": [
    {
     "name": "stdout",
     "output_type": "stream",
     "text": [
      "+---+--------+------+---------+------+---+---------+------+\n",
      "| id|    name|   sal|     dept|gender|rnk|dense_rnk|   sum|\n",
      "+---+--------+------+---------+------+---+---------+------+\n",
      "|  8|   rashi|100000|       IT|     f|  1|        1|100000|\n",
      "|  4|  mukesh| 80000|       IT|     m|  2|        2|180000|\n",
      "|  9|  aditya| 65000|       IT|     m|  3|        3|245000|\n",
      "|  1|  manish| 50000|       IT|     m|  4|        4|345000|\n",
      "| 11|   rakhi| 50000|       IT|     f|  4|        4|345000|\n",
      "|  3| raushan| 70000|marketing|     m|  1|        1| 70000|\n",
      "|  7|  ragini| 55000|marketing|     f|  2|        2|125000|\n",
      "| 10|   rahul| 50000|marketing|     m|  3|        3|175000|\n",
      "|  6|  nikita| 45000|marketing|     f|  4|        4|220000|\n",
      "|  5|   priti| 90000|    sales|     f|  1|        1|180000|\n",
      "| 12|akhilesh| 90000|    sales|     m|  1|        1|180000|\n",
      "|  2|  vikash| 60000|    sales|     m|  3|        2|240000|\n",
      "+---+--------+------+---------+------+---+---------+------+\n",
      "\n"
     ]
    }
   ],
   "source": [
    "# Rank, Dense_rank, Sum\n",
    "\n",
    "window = Window.partitionBy(\"dept\").orderBy(desc(\"sal\"))\n",
    "\n",
    "emp_df.withColumn(\"rnk\", rank().over(window))\\\n",
    "        .withColumn(\"dense_rnk\", dense_rank().over(window))\\\n",
    "        .withColumn(\"sum\", sum(\"sal\").over(window))\\\n",
    "        .show()"
   ]
  },
  {
   "cell_type": "code",
   "execution_count": 25,
   "metadata": {},
   "outputs": [
    {
     "name": "stdout",
     "output_type": "stream",
     "text": [
      "+---+--------+------+---------+------+---+\n",
      "| id|    name|   sal|     dept|gender|top|\n",
      "+---+--------+------+---------+------+---+\n",
      "|  8|   rashi|100000|       IT|     f|  1|\n",
      "|  4|  mukesh| 80000|       IT|     m|  2|\n",
      "|  3| raushan| 70000|marketing|     m|  1|\n",
      "|  7|  ragini| 55000|marketing|     f|  2|\n",
      "|  5|   priti| 90000|    sales|     f|  1|\n",
      "| 12|akhilesh| 90000|    sales|     m|  1|\n",
      "|  2|  vikash| 60000|    sales|     m|  2|\n",
      "+---+--------+------+---------+------+---+\n",
      "\n"
     ]
    }
   ],
   "source": [
    "# Top 2 salary in each dept\n",
    "window = Window.partitionBy(\"dept\").orderBy(desc(\"sal\"))\n",
    "\n",
    "emp_df.withColumn(\"top\", dense_rank().over(window))\\\n",
    "      .filter((col(\"top\") <= 2))\\\n",
    "        .show()"
   ]
  },
  {
   "cell_type": "code",
   "execution_count": null,
   "metadata": {},
   "outputs": [],
   "source": []
  },
  {
   "cell_type": "code",
   "execution_count": null,
   "metadata": {},
   "outputs": [],
   "source": []
  },
  {
   "cell_type": "code",
   "execution_count": null,
   "metadata": {},
   "outputs": [],
   "source": []
  }
 ],
 "metadata": {
  "hide_input": false,
  "kernelspec": {
   "display_name": "Python 3",
   "language": "python",
   "name": "python3"
  },
  "language_info": {
   "codemirror_mode": {
    "name": "ipython",
    "version": 3
   },
   "file_extension": ".py",
   "mimetype": "text/x-python",
   "name": "python",
   "nbconvert_exporter": "python",
   "pygments_lexer": "ipython3",
   "version": "3.8.5"
  }
 },
 "nbformat": 4,
 "nbformat_minor": 4
}
