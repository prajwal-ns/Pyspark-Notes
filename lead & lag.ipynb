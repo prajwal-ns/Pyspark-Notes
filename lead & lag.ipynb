{
 "cells": [
  {
   "cell_type": "code",
   "execution_count": 1,
   "metadata": {},
   "outputs": [],
   "source": [
    "\n",
    "import os\n",
    "\n",
    "\n",
    "import findspark\n",
    "findspark.init()\n",
    "\n",
    "import pyspark\n",
    "from pyspark.sql import SparkSession\n",
    "from pyspark.sql import *\n",
    "from pyspark.sql.functions import *\n",
    "from pyspark.sql.types import *\n",
    "import sys\n",
    "\n",
    "os.environ['PYSPARK_PYTHON'] = sys.executable\n",
    "os.environ['PYSPARK_DRIVER_PYTHON'] = sys.executable"
   ]
  },
  {
   "cell_type": "code",
   "execution_count": 2,
   "metadata": {},
   "outputs": [
    {
     "name": "stdout",
     "output_type": "stream",
     "text": [
      "<pyspark.sql.session.SparkSession object at 0x00000214F8D5B670>\n"
     ]
    }
   ],
   "source": [
    "spark = SparkSession.builder.master(\"local[*]\") \\\n",
    "    .appName(\"testing\") \\\n",
    "    .config(\"spark.driver.extraClassPath\", \"C:\\\\my_sql_jar\\\\mysql-connector-java-8.0.26.jar\") \\\n",
    "    .getOrCreate()\n",
    "print(spark)"
   ]
  },
  {
   "cell_type": "code",
   "execution_count": 3,
   "metadata": {},
   "outputs": [],
   "source": [
    "product_data = [\n",
    "(1,\"iphone\",\"01-01-2023\",1500000),\n",
    "(2,\"samsung\",\"01-01-2023\",1100000),\n",
    "(3,\"oneplus\",\"01-01-2023\",1100000),\n",
    "(1,\"iphone\",\"01-02-2023\",1300000),\n",
    "(2,\"samsung\",\"01-02-2023\",1120000),\n",
    "(3,\"oneplus\",\"01-02-2023\",1120000),\n",
    "(1,\"iphone\",\"01-03-2023\",1600000),\n",
    "(2,\"samsung\",\"01-03-2023\",1080000),\n",
    "(3,\"oneplus\",\"01-03-2023\",1160000),\n",
    "(1,\"iphone\",\"01-04-2023\",1700000),\n",
    "(2,\"samsung\",\"01-04-2023\",1800000),\n",
    "(3,\"oneplus\",\"01-04-2023\",1170000),\n",
    "(1,\"iphone\",\"01-05-2023\",1200000),\n",
    "(2,\"samsung\",\"01-05-2023\",980000),\n",
    "(3,\"oneplus\",\"01-05-2023\",1175000),\n",
    "(1,\"iphone\",\"01-06-2023\",1100000),\n",
    "(2,\"samsung\",\"01-06-2023\",1100000),\n",
    "(3,\"oneplus\",\"01-06-2023\",1200000)\n",
    "]\n",
    "\n",
    "prod_schema = ['product_id', 'product_name', 'sales_date', 'sales']\n",
    "\n",
    "product_df = spark.createDataFrame(data = product_data, schema = prod_schema)"
   ]
  },
  {
   "cell_type": "code",
   "execution_count": 4,
   "metadata": {},
   "outputs": [
    {
     "name": "stdout",
     "output_type": "stream",
     "text": [
      "+----------+------------+----------+-------+\n",
      "|product_id|product_name|sales_date|  sales|\n",
      "+----------+------------+----------+-------+\n",
      "|         1|      iphone|01-01-2023|1500000|\n",
      "|         2|     samsung|01-01-2023|1100000|\n",
      "|         3|     oneplus|01-01-2023|1100000|\n",
      "|         1|      iphone|01-02-2023|1300000|\n",
      "|         2|     samsung|01-02-2023|1120000|\n",
      "|         3|     oneplus|01-02-2023|1120000|\n",
      "|         1|      iphone|01-03-2023|1600000|\n",
      "|         2|     samsung|01-03-2023|1080000|\n",
      "|         3|     oneplus|01-03-2023|1160000|\n",
      "|         1|      iphone|01-04-2023|1700000|\n",
      "|         2|     samsung|01-04-2023|1800000|\n",
      "|         3|     oneplus|01-04-2023|1170000|\n",
      "|         1|      iphone|01-05-2023|1200000|\n",
      "|         2|     samsung|01-05-2023| 980000|\n",
      "|         3|     oneplus|01-05-2023|1175000|\n",
      "|         1|      iphone|01-06-2023|1100000|\n",
      "|         2|     samsung|01-06-2023|1100000|\n",
      "|         3|     oneplus|01-06-2023|1200000|\n",
      "+----------+------------+----------+-------+\n",
      "\n"
     ]
    }
   ],
   "source": [
    "product_df.show()"
   ]
  },
  {
   "cell_type": "code",
   "execution_count": 5,
   "metadata": {},
   "outputs": [
    {
     "name": "stdout",
     "output_type": "stream",
     "text": [
      "+----------+------------+----------+-------+--------------+\n",
      "|product_id|product_name|sales_date|  sales|previous_sales|\n",
      "+----------+------------+----------+-------+--------------+\n",
      "|         1|      iphone|01-01-2023|1500000|          null|\n",
      "|         1|      iphone|01-02-2023|1300000|       1500000|\n",
      "|         1|      iphone|01-03-2023|1600000|       1300000|\n",
      "|         1|      iphone|01-04-2023|1700000|       1600000|\n",
      "|         1|      iphone|01-05-2023|1200000|       1700000|\n",
      "|         1|      iphone|01-06-2023|1100000|       1200000|\n",
      "|         2|     samsung|01-01-2023|1100000|          null|\n",
      "|         2|     samsung|01-02-2023|1120000|       1100000|\n",
      "|         2|     samsung|01-03-2023|1080000|       1120000|\n",
      "|         2|     samsung|01-04-2023|1800000|       1080000|\n",
      "|         2|     samsung|01-05-2023| 980000|       1800000|\n",
      "|         2|     samsung|01-06-2023|1100000|        980000|\n",
      "|         3|     oneplus|01-01-2023|1100000|          null|\n",
      "|         3|     oneplus|01-02-2023|1120000|       1100000|\n",
      "|         3|     oneplus|01-03-2023|1160000|       1120000|\n",
      "|         3|     oneplus|01-04-2023|1170000|       1160000|\n",
      "|         3|     oneplus|01-05-2023|1175000|       1170000|\n",
      "|         3|     oneplus|01-06-2023|1200000|       1175000|\n",
      "+----------+------------+----------+-------+--------------+\n",
      "\n"
     ]
    }
   ],
   "source": [
    "window = Window.partitionBy(\"product_id\").orderBy(\"sales_date\")\n",
    "\n",
    "product_df.withColumn(\"previous_sales\", lag(col(\"sales\")).over(window)).show()\n",
    "\n"
   ]
  },
  {
   "cell_type": "code",
   "execution_count": 6,
   "metadata": {},
   "outputs": [
    {
     "name": "stdout",
     "output_type": "stream",
     "text": [
      "+----------+------------+----------+-------+----------+\n",
      "|product_id|product_name|sales_date|  sales|next_sales|\n",
      "+----------+------------+----------+-------+----------+\n",
      "|         1|      iphone|01-01-2023|1500000|   1300000|\n",
      "|         1|      iphone|01-02-2023|1300000|   1600000|\n",
      "|         1|      iphone|01-03-2023|1600000|   1700000|\n",
      "|         1|      iphone|01-04-2023|1700000|   1200000|\n",
      "|         1|      iphone|01-05-2023|1200000|   1100000|\n",
      "|         1|      iphone|01-06-2023|1100000|      null|\n",
      "|         2|     samsung|01-01-2023|1100000|   1120000|\n",
      "|         2|     samsung|01-02-2023|1120000|   1080000|\n",
      "|         2|     samsung|01-03-2023|1080000|   1800000|\n",
      "|         2|     samsung|01-04-2023|1800000|    980000|\n",
      "|         2|     samsung|01-05-2023| 980000|   1100000|\n",
      "|         2|     samsung|01-06-2023|1100000|      null|\n",
      "|         3|     oneplus|01-01-2023|1100000|   1120000|\n",
      "|         3|     oneplus|01-02-2023|1120000|   1160000|\n",
      "|         3|     oneplus|01-03-2023|1160000|   1170000|\n",
      "|         3|     oneplus|01-04-2023|1170000|   1175000|\n",
      "|         3|     oneplus|01-05-2023|1175000|   1200000|\n",
      "|         3|     oneplus|01-06-2023|1200000|      null|\n",
      "+----------+------------+----------+-------+----------+\n",
      "\n"
     ]
    }
   ],
   "source": [
    "window = Window.partitionBy(\"product_id\").orderBy(\"sales_date\")\n",
    "\n",
    "product_df.withColumn(\"next_sales\", lead(col(\"sales\")).over(window)).show()\n",
    "\n"
   ]
  },
  {
   "cell_type": "code",
   "execution_count": 9,
   "metadata": {},
   "outputs": [
    {
     "name": "stdout",
     "output_type": "stream",
     "text": [
      "+----------+------------+----------+-------+--------------+\n",
      "|product_id|product_name|sales_date|  sales|previous_sales|\n",
      "+----------+------------+----------+-------+--------------+\n",
      "|         1|      iphone|01-01-2023|1500000|       1500000|\n",
      "|         1|      iphone|01-02-2023|1300000|       -200000|\n",
      "|         1|      iphone|01-03-2023|1600000|        300000|\n",
      "|         1|      iphone|01-04-2023|1700000|        100000|\n",
      "|         1|      iphone|01-05-2023|1200000|       -500000|\n",
      "|         1|      iphone|01-06-2023|1100000|       -100000|\n",
      "|         2|     samsung|01-01-2023|1100000|       1100000|\n",
      "|         2|     samsung|01-02-2023|1120000|         20000|\n",
      "|         2|     samsung|01-03-2023|1080000|        -40000|\n",
      "|         2|     samsung|01-04-2023|1800000|        720000|\n",
      "|         2|     samsung|01-05-2023| 980000|       -820000|\n",
      "|         2|     samsung|01-06-2023|1100000|        120000|\n",
      "|         3|     oneplus|01-01-2023|1100000|       1100000|\n",
      "|         3|     oneplus|01-02-2023|1120000|         20000|\n",
      "|         3|     oneplus|01-03-2023|1160000|         40000|\n",
      "|         3|     oneplus|01-04-2023|1170000|         10000|\n",
      "|         3|     oneplus|01-05-2023|1175000|          5000|\n",
      "|         3|     oneplus|01-06-2023|1200000|         25000|\n",
      "+----------+------------+----------+-------+--------------+\n",
      "\n"
     ]
    }
   ],
   "source": [
    "window = Window.partitionBy(\"product_id\").orderBy(\"sales_date\")\n",
    "\n",
    "product_df.withColumn(\"previous_sales\", col(\"sales\") - lag(col(\"sales\"), 1, 0).over(window)).show()\n",
    "\n"
   ]
  },
  {
   "cell_type": "code",
   "execution_count": null,
   "metadata": {},
   "outputs": [],
   "source": []
  },
  {
   "cell_type": "code",
   "execution_count": null,
   "metadata": {},
   "outputs": [],
   "source": []
  }
 ],
 "metadata": {
  "hide_input": false,
  "kernelspec": {
   "display_name": "Python 3",
   "language": "python",
   "name": "python3"
  },
  "language_info": {
   "codemirror_mode": {
    "name": "ipython",
    "version": 3
   },
   "file_extension": ".py",
   "mimetype": "text/x-python",
   "name": "python",
   "nbconvert_exporter": "python",
   "pygments_lexer": "ipython3",
   "version": "3.8.5"
  }
 },
 "nbformat": 4,
 "nbformat_minor": 4
}
